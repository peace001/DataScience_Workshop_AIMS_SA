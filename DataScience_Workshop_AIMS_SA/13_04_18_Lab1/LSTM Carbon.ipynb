{
 "cells": [
  {
   "cell_type": "markdown",
   "metadata": {},
   "source": [
    "# Modeling Time Series Problems using LSTMs\n",
    "\n",
    "Made for the Data Science Workshop 2018 (African Institute for Mathematical Sciences)\n",
    "\n",
    "Extended from (https://machinelearningmastery.com/regression-tutorial-keras-deep-learning-library-python/)"
   ]
  },
  {
   "cell_type": "markdown",
   "metadata": {},
   "source": [
    "## Imports"
   ]
  },
  {
   "cell_type": "code",
   "execution_count": 1,
   "metadata": {
    "collapsed": false
   },
   "outputs": [
    {
     "name": "stderr",
     "output_type": "stream",
     "text": [
      "Using TensorFlow backend.\n"
     ]
    }
   ],
   "source": [
    "import numpy as np\n",
    "import tensorflow as tf\n",
    "import pandas\n",
    "import matplotlib.pyplot as plt\n",
    "from sklearn.preprocessing import MinMaxScaler\n",
    "import math\n",
    "\n",
    "# Keras imports\n",
    "from keras.models import Sequential\n",
    "from keras.layers import Dense\n",
    "\n",
    "# Here we import the LSTM cell which allows us to make LSTM cells\n",
    "# Here is the documentation for the LSTM cell in Keras https://keras.io/layers/recurrent/#lstm\n",
    "from keras.layers import LSTM"
   ]
  },
  {
   "cell_type": "markdown",
   "metadata": {},
   "source": [
    "## Read dataset"
   ]
  },
  {
   "cell_type": "code",
   "execution_count": 2,
   "metadata": {
    "collapsed": false
   },
   "outputs": [],
   "source": [
    "# Read in the data using Pandas\n",
    "dataframe = pandas.read_csv('carbondata_clean.csv', engine= 'python', sep=';', header=None)\n",
    "\n",
    "# Labels the columns manually\n",
    "dataframe.columns = ['1', '2', '3', '4', '5', '6', '7', '8', '9', '10', '11', '12']\n",
    "\n",
    "# Store the dataset into a numpy array\n",
    "dataset = dataframe.values\n",
    "dataset = dataset.astype('float32')"
   ]
  },
  {
   "cell_type": "markdown",
   "metadata": {},
   "source": [
    "### Print the shape of the dataset"
   ]
  },
  {
   "cell_type": "code",
   "execution_count": 3,
   "metadata": {
    "collapsed": false,
    "scrolled": true
   },
   "outputs": [
    {
     "data": {
      "text/plain": [
       "(53, 12)"
      ]
     },
     "execution_count": 3,
     "metadata": {},
     "output_type": "execute_result"
    }
   ],
   "source": [
    "dataset.shape"
   ]
  },
  {
   "cell_type": "markdown",
   "metadata": {},
   "source": [
    "### Display the dataset"
   ]
  },
  {
   "cell_type": "code",
   "execution_count": 4,
   "metadata": {
    "collapsed": false,
    "scrolled": false
   },
   "outputs": [
    {
     "data": {
      "text/html": [
       "<div>\n",
       "<table border=\"1\" class=\"dataframe\">\n",
       "  <thead>\n",
       "    <tr style=\"text-align: right;\">\n",
       "      <th></th>\n",
       "      <th>1</th>\n",
       "      <th>2</th>\n",
       "      <th>3</th>\n",
       "      <th>4</th>\n",
       "      <th>5</th>\n",
       "      <th>6</th>\n",
       "      <th>7</th>\n",
       "      <th>8</th>\n",
       "      <th>9</th>\n",
       "      <th>10</th>\n",
       "      <th>11</th>\n",
       "      <th>12</th>\n",
       "    </tr>\n",
       "  </thead>\n",
       "  <tbody>\n",
       "    <tr>\n",
       "      <th>0</th>\n",
       "      <td>315.62</td>\n",
       "      <td>316.38</td>\n",
       "      <td>316.71</td>\n",
       "      <td>317.72</td>\n",
       "      <td>318.29</td>\n",
       "      <td>318.15</td>\n",
       "      <td>316.54</td>\n",
       "      <td>314.80</td>\n",
       "      <td>313.84</td>\n",
       "      <td>313.26</td>\n",
       "      <td>314.80</td>\n",
       "      <td>315.58</td>\n",
       "    </tr>\n",
       "    <tr>\n",
       "      <th>1</th>\n",
       "      <td>316.43</td>\n",
       "      <td>316.97</td>\n",
       "      <td>317.58</td>\n",
       "      <td>319.02</td>\n",
       "      <td>320.03</td>\n",
       "      <td>319.59</td>\n",
       "      <td>318.18</td>\n",
       "      <td>315.91</td>\n",
       "      <td>314.16</td>\n",
       "      <td>313.83</td>\n",
       "      <td>315.00</td>\n",
       "      <td>316.19</td>\n",
       "    </tr>\n",
       "    <tr>\n",
       "      <th>2</th>\n",
       "      <td>316.93</td>\n",
       "      <td>317.70</td>\n",
       "      <td>318.54</td>\n",
       "      <td>319.48</td>\n",
       "      <td>320.58</td>\n",
       "      <td>319.77</td>\n",
       "      <td>318.57</td>\n",
       "      <td>316.79</td>\n",
       "      <td>314.80</td>\n",
       "      <td>315.38</td>\n",
       "      <td>316.10</td>\n",
       "      <td>317.01</td>\n",
       "    </tr>\n",
       "    <tr>\n",
       "      <th>3</th>\n",
       "      <td>317.94</td>\n",
       "      <td>318.56</td>\n",
       "      <td>319.68</td>\n",
       "      <td>320.63</td>\n",
       "      <td>321.01</td>\n",
       "      <td>320.55</td>\n",
       "      <td>319.58</td>\n",
       "      <td>317.40</td>\n",
       "      <td>316.26</td>\n",
       "      <td>315.42</td>\n",
       "      <td>316.69</td>\n",
       "      <td>317.69</td>\n",
       "    </tr>\n",
       "    <tr>\n",
       "      <th>4</th>\n",
       "      <td>318.74</td>\n",
       "      <td>319.08</td>\n",
       "      <td>319.86</td>\n",
       "      <td>321.39</td>\n",
       "      <td>322.25</td>\n",
       "      <td>321.47</td>\n",
       "      <td>319.74</td>\n",
       "      <td>317.77</td>\n",
       "      <td>316.21</td>\n",
       "      <td>315.99</td>\n",
       "      <td>317.12</td>\n",
       "      <td>318.31</td>\n",
       "    </tr>\n",
       "    <tr>\n",
       "      <th>5</th>\n",
       "      <td>319.57</td>\n",
       "      <td>319.21</td>\n",
       "      <td>319.63</td>\n",
       "      <td>319.41</td>\n",
       "      <td>322.25</td>\n",
       "      <td>321.89</td>\n",
       "      <td>320.44</td>\n",
       "      <td>318.70</td>\n",
       "      <td>316.70</td>\n",
       "      <td>316.79</td>\n",
       "      <td>317.79</td>\n",
       "      <td>318.71</td>\n",
       "    </tr>\n",
       "    <tr>\n",
       "      <th>6</th>\n",
       "      <td>319.44</td>\n",
       "      <td>320.44</td>\n",
       "      <td>320.89</td>\n",
       "      <td>322.13</td>\n",
       "      <td>322.16</td>\n",
       "      <td>321.87</td>\n",
       "      <td>321.39</td>\n",
       "      <td>318.81</td>\n",
       "      <td>317.81</td>\n",
       "      <td>317.30</td>\n",
       "      <td>318.87</td>\n",
       "      <td>319.42</td>\n",
       "    </tr>\n",
       "    <tr>\n",
       "      <th>7</th>\n",
       "      <td>320.62</td>\n",
       "      <td>321.59</td>\n",
       "      <td>322.39</td>\n",
       "      <td>323.87</td>\n",
       "      <td>324.01</td>\n",
       "      <td>323.75</td>\n",
       "      <td>322.39</td>\n",
       "      <td>320.37</td>\n",
       "      <td>318.64</td>\n",
       "      <td>318.10</td>\n",
       "      <td>319.79</td>\n",
       "      <td>321.08</td>\n",
       "    </tr>\n",
       "    <tr>\n",
       "      <th>8</th>\n",
       "      <td>322.07</td>\n",
       "      <td>322.50</td>\n",
       "      <td>323.04</td>\n",
       "      <td>324.42</td>\n",
       "      <td>325.00</td>\n",
       "      <td>324.09</td>\n",
       "      <td>322.55</td>\n",
       "      <td>320.92</td>\n",
       "      <td>319.31</td>\n",
       "      <td>319.31</td>\n",
       "      <td>320.72</td>\n",
       "      <td>321.96</td>\n",
       "    </tr>\n",
       "    <tr>\n",
       "      <th>9</th>\n",
       "      <td>322.57</td>\n",
       "      <td>323.15</td>\n",
       "      <td>323.89</td>\n",
       "      <td>325.02</td>\n",
       "      <td>325.57</td>\n",
       "      <td>325.36</td>\n",
       "      <td>324.14</td>\n",
       "      <td>322.03</td>\n",
       "      <td>320.41</td>\n",
       "      <td>320.25</td>\n",
       "      <td>321.31</td>\n",
       "      <td>322.84</td>\n",
       "    </tr>\n",
       "    <tr>\n",
       "      <th>10</th>\n",
       "      <td>324.00</td>\n",
       "      <td>324.42</td>\n",
       "      <td>325.64</td>\n",
       "      <td>326.66</td>\n",
       "      <td>327.34</td>\n",
       "      <td>326.76</td>\n",
       "      <td>325.88</td>\n",
       "      <td>323.67</td>\n",
       "      <td>322.38</td>\n",
       "      <td>321.78</td>\n",
       "      <td>322.85</td>\n",
       "      <td>324.11</td>\n",
       "    </tr>\n",
       "    <tr>\n",
       "      <th>11</th>\n",
       "      <td>325.03</td>\n",
       "      <td>325.99</td>\n",
       "      <td>326.87</td>\n",
       "      <td>328.13</td>\n",
       "      <td>328.07</td>\n",
       "      <td>327.66</td>\n",
       "      <td>326.35</td>\n",
       "      <td>324.69</td>\n",
       "      <td>323.10</td>\n",
       "      <td>323.16</td>\n",
       "      <td>323.98</td>\n",
       "      <td>325.13</td>\n",
       "    </tr>\n",
       "    <tr>\n",
       "      <th>12</th>\n",
       "      <td>326.17</td>\n",
       "      <td>326.68</td>\n",
       "      <td>327.18</td>\n",
       "      <td>327.78</td>\n",
       "      <td>328.92</td>\n",
       "      <td>328.57</td>\n",
       "      <td>327.34</td>\n",
       "      <td>325.46</td>\n",
       "      <td>323.36</td>\n",
       "      <td>323.57</td>\n",
       "      <td>324.80</td>\n",
       "      <td>326.01</td>\n",
       "    </tr>\n",
       "    <tr>\n",
       "      <th>13</th>\n",
       "      <td>326.77</td>\n",
       "      <td>327.63</td>\n",
       "      <td>327.75</td>\n",
       "      <td>329.72</td>\n",
       "      <td>330.07</td>\n",
       "      <td>329.09</td>\n",
       "      <td>328.05</td>\n",
       "      <td>326.32</td>\n",
       "      <td>324.93</td>\n",
       "      <td>325.06</td>\n",
       "      <td>326.50</td>\n",
       "      <td>327.55</td>\n",
       "    </tr>\n",
       "    <tr>\n",
       "      <th>14</th>\n",
       "      <td>328.54</td>\n",
       "      <td>329.56</td>\n",
       "      <td>330.30</td>\n",
       "      <td>331.50</td>\n",
       "      <td>332.48</td>\n",
       "      <td>332.07</td>\n",
       "      <td>330.87</td>\n",
       "      <td>329.31</td>\n",
       "      <td>327.51</td>\n",
       "      <td>327.18</td>\n",
       "      <td>328.16</td>\n",
       "      <td>328.64</td>\n",
       "    </tr>\n",
       "    <tr>\n",
       "      <th>15</th>\n",
       "      <td>329.35</td>\n",
       "      <td>330.71</td>\n",
       "      <td>331.48</td>\n",
       "      <td>332.65</td>\n",
       "      <td>333.19</td>\n",
       "      <td>332.12</td>\n",
       "      <td>330.99</td>\n",
       "      <td>329.17</td>\n",
       "      <td>327.41</td>\n",
       "      <td>327.21</td>\n",
       "      <td>328.34</td>\n",
       "      <td>329.50</td>\n",
       "    </tr>\n",
       "    <tr>\n",
       "      <th>16</th>\n",
       "      <td>330.68</td>\n",
       "      <td>331.41</td>\n",
       "      <td>331.85</td>\n",
       "      <td>333.29</td>\n",
       "      <td>333.91</td>\n",
       "      <td>333.40</td>\n",
       "      <td>331.74</td>\n",
       "      <td>329.88</td>\n",
       "      <td>328.57</td>\n",
       "      <td>328.36</td>\n",
       "      <td>329.33</td>\n",
       "      <td>329.60</td>\n",
       "    </tr>\n",
       "    <tr>\n",
       "      <th>17</th>\n",
       "      <td>331.66</td>\n",
       "      <td>332.75</td>\n",
       "      <td>333.46</td>\n",
       "      <td>334.78</td>\n",
       "      <td>334.78</td>\n",
       "      <td>334.06</td>\n",
       "      <td>332.95</td>\n",
       "      <td>330.64</td>\n",
       "      <td>328.96</td>\n",
       "      <td>328.77</td>\n",
       "      <td>330.18</td>\n",
       "      <td>331.65</td>\n",
       "    </tr>\n",
       "    <tr>\n",
       "      <th>18</th>\n",
       "      <td>332.69</td>\n",
       "      <td>333.23</td>\n",
       "      <td>334.97</td>\n",
       "      <td>336.03</td>\n",
       "      <td>336.82</td>\n",
       "      <td>336.10</td>\n",
       "      <td>334.79</td>\n",
       "      <td>332.53</td>\n",
       "      <td>331.19</td>\n",
       "      <td>331.21</td>\n",
       "      <td>332.35</td>\n",
       "      <td>333.47</td>\n",
       "    </tr>\n",
       "    <tr>\n",
       "      <th>19</th>\n",
       "      <td>335.10</td>\n",
       "      <td>335.26</td>\n",
       "      <td>336.61</td>\n",
       "      <td>337.77</td>\n",
       "      <td>338.01</td>\n",
       "      <td>337.98</td>\n",
       "      <td>336.48</td>\n",
       "      <td>334.37</td>\n",
       "      <td>332.33</td>\n",
       "      <td>332.41</td>\n",
       "      <td>333.76</td>\n",
       "      <td>334.83</td>\n",
       "    </tr>\n",
       "    <tr>\n",
       "      <th>20</th>\n",
       "      <td>336.21</td>\n",
       "      <td>336.65</td>\n",
       "      <td>338.13</td>\n",
       "      <td>338.95</td>\n",
       "      <td>339.00</td>\n",
       "      <td>339.20</td>\n",
       "      <td>337.60</td>\n",
       "      <td>335.56</td>\n",
       "      <td>333.93</td>\n",
       "      <td>334.12</td>\n",
       "      <td>335.26</td>\n",
       "      <td>336.78</td>\n",
       "    </tr>\n",
       "    <tr>\n",
       "      <th>21</th>\n",
       "      <td>337.80</td>\n",
       "      <td>338.28</td>\n",
       "      <td>340.04</td>\n",
       "      <td>340.86</td>\n",
       "      <td>341.47</td>\n",
       "      <td>341.26</td>\n",
       "      <td>339.34</td>\n",
       "      <td>337.45</td>\n",
       "      <td>336.10</td>\n",
       "      <td>336.05</td>\n",
       "      <td>337.21</td>\n",
       "      <td>338.29</td>\n",
       "    </tr>\n",
       "    <tr>\n",
       "      <th>22</th>\n",
       "      <td>339.36</td>\n",
       "      <td>340.51</td>\n",
       "      <td>341.57</td>\n",
       "      <td>342.56</td>\n",
       "      <td>343.01</td>\n",
       "      <td>342.49</td>\n",
       "      <td>340.68</td>\n",
       "      <td>338.49</td>\n",
       "      <td>336.92</td>\n",
       "      <td>337.12</td>\n",
       "      <td>338.59</td>\n",
       "      <td>339.90</td>\n",
       "    </tr>\n",
       "    <tr>\n",
       "      <th>23</th>\n",
       "      <td>340.92</td>\n",
       "      <td>341.69</td>\n",
       "      <td>342.85</td>\n",
       "      <td>343.92</td>\n",
       "      <td>344.67</td>\n",
       "      <td>343.78</td>\n",
       "      <td>342.23</td>\n",
       "      <td>340.11</td>\n",
       "      <td>338.32</td>\n",
       "      <td>338.39</td>\n",
       "      <td>339.48</td>\n",
       "      <td>340.88</td>\n",
       "    </tr>\n",
       "    <tr>\n",
       "      <th>24</th>\n",
       "      <td>341.64</td>\n",
       "      <td>342.87</td>\n",
       "      <td>343.59</td>\n",
       "      <td>345.25</td>\n",
       "      <td>345.96</td>\n",
       "      <td>345.52</td>\n",
       "      <td>344.15</td>\n",
       "      <td>342.25</td>\n",
       "      <td>340.17</td>\n",
       "      <td>340.30</td>\n",
       "      <td>341.53</td>\n",
       "      <td>343.07</td>\n",
       "    </tr>\n",
       "    <tr>\n",
       "      <th>25</th>\n",
       "      <td>344.05</td>\n",
       "      <td>344.77</td>\n",
       "      <td>345.46</td>\n",
       "      <td>345.30</td>\n",
       "      <td>347.55</td>\n",
       "      <td>346.98</td>\n",
       "      <td>345.55</td>\n",
       "      <td>343.20</td>\n",
       "      <td>341.35</td>\n",
       "      <td>341.68</td>\n",
       "      <td>343.06</td>\n",
       "      <td>344.54</td>\n",
       "    </tr>\n",
       "    <tr>\n",
       "      <th>26</th>\n",
       "      <td>345.25</td>\n",
       "      <td>346.06</td>\n",
       "      <td>347.66</td>\n",
       "      <td>348.20</td>\n",
       "      <td>348.92</td>\n",
       "      <td>348.40</td>\n",
       "      <td>346.66</td>\n",
       "      <td>344.85</td>\n",
       "      <td>343.20</td>\n",
       "      <td>343.08</td>\n",
       "      <td>344.40</td>\n",
       "      <td>345.82</td>\n",
       "    </tr>\n",
       "    <tr>\n",
       "      <th>27</th>\n",
       "      <td>346.54</td>\n",
       "      <td>347.13</td>\n",
       "      <td>348.05</td>\n",
       "      <td>349.77</td>\n",
       "      <td>350.53</td>\n",
       "      <td>349.90</td>\n",
       "      <td>348.11</td>\n",
       "      <td>346.09</td>\n",
       "      <td>345.01</td>\n",
       "      <td>344.47</td>\n",
       "      <td>345.86</td>\n",
       "      <td>347.15</td>\n",
       "    </tr>\n",
       "    <tr>\n",
       "      <th>28</th>\n",
       "      <td>348.38</td>\n",
       "      <td>348.70</td>\n",
       "      <td>349.72</td>\n",
       "      <td>351.32</td>\n",
       "      <td>352.14</td>\n",
       "      <td>351.61</td>\n",
       "      <td>349.91</td>\n",
       "      <td>347.84</td>\n",
       "      <td>346.52</td>\n",
       "      <td>346.65</td>\n",
       "      <td>347.95</td>\n",
       "      <td>349.18</td>\n",
       "    </tr>\n",
       "    <tr>\n",
       "      <th>29</th>\n",
       "      <td>350.38</td>\n",
       "      <td>351.68</td>\n",
       "      <td>352.24</td>\n",
       "      <td>353.66</td>\n",
       "      <td>354.18</td>\n",
       "      <td>353.68</td>\n",
       "      <td>352.58</td>\n",
       "      <td>350.66</td>\n",
       "      <td>349.03</td>\n",
       "      <td>349.08</td>\n",
       "      <td>350.15</td>\n",
       "      <td>351.44</td>\n",
       "    </tr>\n",
       "    <tr>\n",
       "      <th>30</th>\n",
       "      <td>352.89</td>\n",
       "      <td>353.24</td>\n",
       "      <td>353.80</td>\n",
       "      <td>355.59</td>\n",
       "      <td>355.89</td>\n",
       "      <td>355.30</td>\n",
       "      <td>353.98</td>\n",
       "      <td>351.53</td>\n",
       "      <td>350.02</td>\n",
       "      <td>350.29</td>\n",
       "      <td>351.44</td>\n",
       "      <td>352.84</td>\n",
       "    </tr>\n",
       "    <tr>\n",
       "      <th>31</th>\n",
       "      <td>353.79</td>\n",
       "      <td>354.88</td>\n",
       "      <td>355.65</td>\n",
       "      <td>356.27</td>\n",
       "      <td>357.29</td>\n",
       "      <td>356.32</td>\n",
       "      <td>354.88</td>\n",
       "      <td>352.89</td>\n",
       "      <td>351.28</td>\n",
       "      <td>351.59</td>\n",
       "      <td>353.05</td>\n",
       "      <td>354.27</td>\n",
       "    </tr>\n",
       "    <tr>\n",
       "      <th>32</th>\n",
       "      <td>354.87</td>\n",
       "      <td>355.68</td>\n",
       "      <td>357.06</td>\n",
       "      <td>358.51</td>\n",
       "      <td>359.09</td>\n",
       "      <td>358.10</td>\n",
       "      <td>356.12</td>\n",
       "      <td>353.89</td>\n",
       "      <td>352.30</td>\n",
       "      <td>352.32</td>\n",
       "      <td>353.79</td>\n",
       "      <td>355.07</td>\n",
       "    </tr>\n",
       "    <tr>\n",
       "      <th>33</th>\n",
       "      <td>356.17</td>\n",
       "      <td>356.93</td>\n",
       "      <td>357.82</td>\n",
       "      <td>359.00</td>\n",
       "      <td>359.55</td>\n",
       "      <td>359.32</td>\n",
       "      <td>356.85</td>\n",
       "      <td>354.91</td>\n",
       "      <td>352.93</td>\n",
       "      <td>353.31</td>\n",
       "      <td>354.27</td>\n",
       "      <td>355.53</td>\n",
       "    </tr>\n",
       "    <tr>\n",
       "      <th>34</th>\n",
       "      <td>356.86</td>\n",
       "      <td>357.27</td>\n",
       "      <td>358.36</td>\n",
       "      <td>359.27</td>\n",
       "      <td>360.19</td>\n",
       "      <td>359.52</td>\n",
       "      <td>357.42</td>\n",
       "      <td>355.46</td>\n",
       "      <td>354.10</td>\n",
       "      <td>354.12</td>\n",
       "      <td>355.40</td>\n",
       "      <td>356.84</td>\n",
       "    </tr>\n",
       "    <tr>\n",
       "      <th>35</th>\n",
       "      <td>358.22</td>\n",
       "      <td>358.98</td>\n",
       "      <td>359.91</td>\n",
       "      <td>361.32</td>\n",
       "      <td>361.68</td>\n",
       "      <td>360.80</td>\n",
       "      <td>359.39</td>\n",
       "      <td>357.42</td>\n",
       "      <td>355.63</td>\n",
       "      <td>356.09</td>\n",
       "      <td>357.56</td>\n",
       "      <td>358.87</td>\n",
       "    </tr>\n",
       "    <tr>\n",
       "      <th>36</th>\n",
       "      <td>359.87</td>\n",
       "      <td>360.79</td>\n",
       "      <td>361.77</td>\n",
       "      <td>363.23</td>\n",
       "      <td>363.77</td>\n",
       "      <td>363.22</td>\n",
       "      <td>361.70</td>\n",
       "      <td>359.11</td>\n",
       "      <td>358.11</td>\n",
       "      <td>357.97</td>\n",
       "      <td>359.40</td>\n",
       "      <td>360.61</td>\n",
       "    </tr>\n",
       "    <tr>\n",
       "      <th>37</th>\n",
       "      <td>362.04</td>\n",
       "      <td>363.17</td>\n",
       "      <td>364.17</td>\n",
       "      <td>364.51</td>\n",
       "      <td>365.16</td>\n",
       "      <td>364.93</td>\n",
       "      <td>363.53</td>\n",
       "      <td>361.38</td>\n",
       "      <td>359.60</td>\n",
       "      <td>359.54</td>\n",
       "      <td>360.84</td>\n",
       "      <td>362.18</td>\n",
       "    </tr>\n",
       "    <tr>\n",
       "      <th>38</th>\n",
       "      <td>363.04</td>\n",
       "      <td>364.09</td>\n",
       "      <td>364.47</td>\n",
       "      <td>366.25</td>\n",
       "      <td>366.69</td>\n",
       "      <td>365.59</td>\n",
       "      <td>364.34</td>\n",
       "      <td>362.20</td>\n",
       "      <td>360.31</td>\n",
       "      <td>360.71</td>\n",
       "      <td>362.44</td>\n",
       "      <td>364.33</td>\n",
       "    </tr>\n",
       "    <tr>\n",
       "      <th>39</th>\n",
       "      <td>365.18</td>\n",
       "      <td>365.98</td>\n",
       "      <td>367.13</td>\n",
       "      <td>368.61</td>\n",
       "      <td>369.49</td>\n",
       "      <td>368.95</td>\n",
       "      <td>367.74</td>\n",
       "      <td>365.79</td>\n",
       "      <td>364.01</td>\n",
       "      <td>364.35</td>\n",
       "      <td>365.52</td>\n",
       "      <td>367.08</td>\n",
       "    </tr>\n",
       "    <tr>\n",
       "      <th>40</th>\n",
       "      <td>368.12</td>\n",
       "      <td>368.98</td>\n",
       "      <td>369.60</td>\n",
       "      <td>370.96</td>\n",
       "      <td>370.77</td>\n",
       "      <td>370.33</td>\n",
       "      <td>369.28</td>\n",
       "      <td>366.86</td>\n",
       "      <td>364.94</td>\n",
       "      <td>365.35</td>\n",
       "      <td>366.68</td>\n",
       "      <td>368.04</td>\n",
       "    </tr>\n",
       "    <tr>\n",
       "      <th>41</th>\n",
       "      <td>369.25</td>\n",
       "      <td>369.50</td>\n",
       "      <td>370.56</td>\n",
       "      <td>371.82</td>\n",
       "      <td>371.51</td>\n",
       "      <td>371.71</td>\n",
       "      <td>369.85</td>\n",
       "      <td>368.20</td>\n",
       "      <td>366.91</td>\n",
       "      <td>366.99</td>\n",
       "      <td>368.33</td>\n",
       "      <td>369.67</td>\n",
       "    </tr>\n",
       "    <tr>\n",
       "      <th>42</th>\n",
       "      <td>370.52</td>\n",
       "      <td>371.49</td>\n",
       "      <td>372.53</td>\n",
       "      <td>373.37</td>\n",
       "      <td>373.82</td>\n",
       "      <td>373.18</td>\n",
       "      <td>371.57</td>\n",
       "      <td>369.63</td>\n",
       "      <td>368.16</td>\n",
       "      <td>368.42</td>\n",
       "      <td>369.69</td>\n",
       "      <td>371.18</td>\n",
       "    </tr>\n",
       "    <tr>\n",
       "      <th>43</th>\n",
       "      <td>372.45</td>\n",
       "      <td>373.14</td>\n",
       "      <td>373.93</td>\n",
       "      <td>375.00</td>\n",
       "      <td>375.65</td>\n",
       "      <td>375.50</td>\n",
       "      <td>374.00</td>\n",
       "      <td>371.83</td>\n",
       "      <td>370.66</td>\n",
       "      <td>370.51</td>\n",
       "      <td>372.20</td>\n",
       "      <td>373.71</td>\n",
       "    </tr>\n",
       "    <tr>\n",
       "      <th>44</th>\n",
       "      <td>374.87</td>\n",
       "      <td>375.62</td>\n",
       "      <td>376.48</td>\n",
       "      <td>377.74</td>\n",
       "      <td>378.50</td>\n",
       "      <td>378.18</td>\n",
       "      <td>376.72</td>\n",
       "      <td>374.31</td>\n",
       "      <td>373.20</td>\n",
       "      <td>373.10</td>\n",
       "      <td>374.64</td>\n",
       "      <td>375.93</td>\n",
       "    </tr>\n",
       "    <tr>\n",
       "      <th>45</th>\n",
       "      <td>377.00</td>\n",
       "      <td>377.87</td>\n",
       "      <td>378.73</td>\n",
       "      <td>380.41</td>\n",
       "      <td>380.63</td>\n",
       "      <td>379.56</td>\n",
       "      <td>377.61</td>\n",
       "      <td>376.15</td>\n",
       "      <td>374.11</td>\n",
       "      <td>374.44</td>\n",
       "      <td>375.93</td>\n",
       "      <td>377.45</td>\n",
       "    </tr>\n",
       "    <tr>\n",
       "      <th>46</th>\n",
       "      <td>378.47</td>\n",
       "      <td>379.76</td>\n",
       "      <td>381.14</td>\n",
       "      <td>382.20</td>\n",
       "      <td>382.47</td>\n",
       "      <td>382.20</td>\n",
       "      <td>380.78</td>\n",
       "      <td>378.73</td>\n",
       "      <td>376.66</td>\n",
       "      <td>376.98</td>\n",
       "      <td>378.29</td>\n",
       "      <td>379.92</td>\n",
       "    </tr>\n",
       "    <tr>\n",
       "      <th>47</th>\n",
       "      <td>381.35</td>\n",
       "      <td>382.16</td>\n",
       "      <td>382.66</td>\n",
       "      <td>384.73</td>\n",
       "      <td>384.98</td>\n",
       "      <td>384.09</td>\n",
       "      <td>382.38</td>\n",
       "      <td>380.45</td>\n",
       "      <td>378.92</td>\n",
       "      <td>379.16</td>\n",
       "      <td>380.18</td>\n",
       "      <td>381.79</td>\n",
       "    </tr>\n",
       "    <tr>\n",
       "      <th>48</th>\n",
       "      <td>382.93</td>\n",
       "      <td>383.81</td>\n",
       "      <td>384.56</td>\n",
       "      <td>386.40</td>\n",
       "      <td>386.58</td>\n",
       "      <td>386.05</td>\n",
       "      <td>384.49</td>\n",
       "      <td>382.00</td>\n",
       "      <td>380.90</td>\n",
       "      <td>381.14</td>\n",
       "      <td>382.42</td>\n",
       "      <td>383.89</td>\n",
       "    </tr>\n",
       "    <tr>\n",
       "      <th>49</th>\n",
       "      <td>385.44</td>\n",
       "      <td>385.73</td>\n",
       "      <td>385.97</td>\n",
       "      <td>387.16</td>\n",
       "      <td>388.50</td>\n",
       "      <td>387.88</td>\n",
       "      <td>386.42</td>\n",
       "      <td>384.15</td>\n",
       "      <td>383.09</td>\n",
       "      <td>382.99</td>\n",
       "      <td>384.13</td>\n",
       "      <td>385.56</td>\n",
       "    </tr>\n",
       "    <tr>\n",
       "      <th>50</th>\n",
       "      <td>386.93</td>\n",
       "      <td>387.42</td>\n",
       "      <td>388.77</td>\n",
       "      <td>389.46</td>\n",
       "      <td>390.19</td>\n",
       "      <td>389.44</td>\n",
       "      <td>387.91</td>\n",
       "      <td>385.92</td>\n",
       "      <td>384.79</td>\n",
       "      <td>384.39</td>\n",
       "      <td>386.00</td>\n",
       "      <td>387.27</td>\n",
       "    </tr>\n",
       "    <tr>\n",
       "      <th>51</th>\n",
       "      <td>388.45</td>\n",
       "      <td>389.82</td>\n",
       "      <td>391.08</td>\n",
       "      <td>392.46</td>\n",
       "      <td>392.95</td>\n",
       "      <td>392.03</td>\n",
       "      <td>390.13</td>\n",
       "      <td>388.15</td>\n",
       "      <td>386.80</td>\n",
       "      <td>387.18</td>\n",
       "      <td>388.59</td>\n",
       "      <td>389.68</td>\n",
       "    </tr>\n",
       "    <tr>\n",
       "      <th>52</th>\n",
       "      <td>391.19</td>\n",
       "      <td>391.76</td>\n",
       "      <td>392.40</td>\n",
       "      <td>393.28</td>\n",
       "      <td>394.16</td>\n",
       "      <td>393.68</td>\n",
       "      <td>392.39</td>\n",
       "      <td>390.08</td>\n",
       "      <td>389.00</td>\n",
       "      <td>388.92</td>\n",
       "      <td>390.20</td>\n",
       "      <td>391.80</td>\n",
       "    </tr>\n",
       "  </tbody>\n",
       "</table>\n",
       "</div>"
      ],
      "text/plain": [
       "         1       2       3       4       5       6       7       8       9  \\\n",
       "0   315.62  316.38  316.71  317.72  318.29  318.15  316.54  314.80  313.84   \n",
       "1   316.43  316.97  317.58  319.02  320.03  319.59  318.18  315.91  314.16   \n",
       "2   316.93  317.70  318.54  319.48  320.58  319.77  318.57  316.79  314.80   \n",
       "3   317.94  318.56  319.68  320.63  321.01  320.55  319.58  317.40  316.26   \n",
       "4   318.74  319.08  319.86  321.39  322.25  321.47  319.74  317.77  316.21   \n",
       "5   319.57  319.21  319.63  319.41  322.25  321.89  320.44  318.70  316.70   \n",
       "6   319.44  320.44  320.89  322.13  322.16  321.87  321.39  318.81  317.81   \n",
       "7   320.62  321.59  322.39  323.87  324.01  323.75  322.39  320.37  318.64   \n",
       "8   322.07  322.50  323.04  324.42  325.00  324.09  322.55  320.92  319.31   \n",
       "9   322.57  323.15  323.89  325.02  325.57  325.36  324.14  322.03  320.41   \n",
       "10  324.00  324.42  325.64  326.66  327.34  326.76  325.88  323.67  322.38   \n",
       "11  325.03  325.99  326.87  328.13  328.07  327.66  326.35  324.69  323.10   \n",
       "12  326.17  326.68  327.18  327.78  328.92  328.57  327.34  325.46  323.36   \n",
       "13  326.77  327.63  327.75  329.72  330.07  329.09  328.05  326.32  324.93   \n",
       "14  328.54  329.56  330.30  331.50  332.48  332.07  330.87  329.31  327.51   \n",
       "15  329.35  330.71  331.48  332.65  333.19  332.12  330.99  329.17  327.41   \n",
       "16  330.68  331.41  331.85  333.29  333.91  333.40  331.74  329.88  328.57   \n",
       "17  331.66  332.75  333.46  334.78  334.78  334.06  332.95  330.64  328.96   \n",
       "18  332.69  333.23  334.97  336.03  336.82  336.10  334.79  332.53  331.19   \n",
       "19  335.10  335.26  336.61  337.77  338.01  337.98  336.48  334.37  332.33   \n",
       "20  336.21  336.65  338.13  338.95  339.00  339.20  337.60  335.56  333.93   \n",
       "21  337.80  338.28  340.04  340.86  341.47  341.26  339.34  337.45  336.10   \n",
       "22  339.36  340.51  341.57  342.56  343.01  342.49  340.68  338.49  336.92   \n",
       "23  340.92  341.69  342.85  343.92  344.67  343.78  342.23  340.11  338.32   \n",
       "24  341.64  342.87  343.59  345.25  345.96  345.52  344.15  342.25  340.17   \n",
       "25  344.05  344.77  345.46  345.30  347.55  346.98  345.55  343.20  341.35   \n",
       "26  345.25  346.06  347.66  348.20  348.92  348.40  346.66  344.85  343.20   \n",
       "27  346.54  347.13  348.05  349.77  350.53  349.90  348.11  346.09  345.01   \n",
       "28  348.38  348.70  349.72  351.32  352.14  351.61  349.91  347.84  346.52   \n",
       "29  350.38  351.68  352.24  353.66  354.18  353.68  352.58  350.66  349.03   \n",
       "30  352.89  353.24  353.80  355.59  355.89  355.30  353.98  351.53  350.02   \n",
       "31  353.79  354.88  355.65  356.27  357.29  356.32  354.88  352.89  351.28   \n",
       "32  354.87  355.68  357.06  358.51  359.09  358.10  356.12  353.89  352.30   \n",
       "33  356.17  356.93  357.82  359.00  359.55  359.32  356.85  354.91  352.93   \n",
       "34  356.86  357.27  358.36  359.27  360.19  359.52  357.42  355.46  354.10   \n",
       "35  358.22  358.98  359.91  361.32  361.68  360.80  359.39  357.42  355.63   \n",
       "36  359.87  360.79  361.77  363.23  363.77  363.22  361.70  359.11  358.11   \n",
       "37  362.04  363.17  364.17  364.51  365.16  364.93  363.53  361.38  359.60   \n",
       "38  363.04  364.09  364.47  366.25  366.69  365.59  364.34  362.20  360.31   \n",
       "39  365.18  365.98  367.13  368.61  369.49  368.95  367.74  365.79  364.01   \n",
       "40  368.12  368.98  369.60  370.96  370.77  370.33  369.28  366.86  364.94   \n",
       "41  369.25  369.50  370.56  371.82  371.51  371.71  369.85  368.20  366.91   \n",
       "42  370.52  371.49  372.53  373.37  373.82  373.18  371.57  369.63  368.16   \n",
       "43  372.45  373.14  373.93  375.00  375.65  375.50  374.00  371.83  370.66   \n",
       "44  374.87  375.62  376.48  377.74  378.50  378.18  376.72  374.31  373.20   \n",
       "45  377.00  377.87  378.73  380.41  380.63  379.56  377.61  376.15  374.11   \n",
       "46  378.47  379.76  381.14  382.20  382.47  382.20  380.78  378.73  376.66   \n",
       "47  381.35  382.16  382.66  384.73  384.98  384.09  382.38  380.45  378.92   \n",
       "48  382.93  383.81  384.56  386.40  386.58  386.05  384.49  382.00  380.90   \n",
       "49  385.44  385.73  385.97  387.16  388.50  387.88  386.42  384.15  383.09   \n",
       "50  386.93  387.42  388.77  389.46  390.19  389.44  387.91  385.92  384.79   \n",
       "51  388.45  389.82  391.08  392.46  392.95  392.03  390.13  388.15  386.80   \n",
       "52  391.19  391.76  392.40  393.28  394.16  393.68  392.39  390.08  389.00   \n",
       "\n",
       "        10      11      12  \n",
       "0   313.26  314.80  315.58  \n",
       "1   313.83  315.00  316.19  \n",
       "2   315.38  316.10  317.01  \n",
       "3   315.42  316.69  317.69  \n",
       "4   315.99  317.12  318.31  \n",
       "5   316.79  317.79  318.71  \n",
       "6   317.30  318.87  319.42  \n",
       "7   318.10  319.79  321.08  \n",
       "8   319.31  320.72  321.96  \n",
       "9   320.25  321.31  322.84  \n",
       "10  321.78  322.85  324.11  \n",
       "11  323.16  323.98  325.13  \n",
       "12  323.57  324.80  326.01  \n",
       "13  325.06  326.50  327.55  \n",
       "14  327.18  328.16  328.64  \n",
       "15  327.21  328.34  329.50  \n",
       "16  328.36  329.33  329.60  \n",
       "17  328.77  330.18  331.65  \n",
       "18  331.21  332.35  333.47  \n",
       "19  332.41  333.76  334.83  \n",
       "20  334.12  335.26  336.78  \n",
       "21  336.05  337.21  338.29  \n",
       "22  337.12  338.59  339.90  \n",
       "23  338.39  339.48  340.88  \n",
       "24  340.30  341.53  343.07  \n",
       "25  341.68  343.06  344.54  \n",
       "26  343.08  344.40  345.82  \n",
       "27  344.47  345.86  347.15  \n",
       "28  346.65  347.95  349.18  \n",
       "29  349.08  350.15  351.44  \n",
       "30  350.29  351.44  352.84  \n",
       "31  351.59  353.05  354.27  \n",
       "32  352.32  353.79  355.07  \n",
       "33  353.31  354.27  355.53  \n",
       "34  354.12  355.40  356.84  \n",
       "35  356.09  357.56  358.87  \n",
       "36  357.97  359.40  360.61  \n",
       "37  359.54  360.84  362.18  \n",
       "38  360.71  362.44  364.33  \n",
       "39  364.35  365.52  367.08  \n",
       "40  365.35  366.68  368.04  \n",
       "41  366.99  368.33  369.67  \n",
       "42  368.42  369.69  371.18  \n",
       "43  370.51  372.20  373.71  \n",
       "44  373.10  374.64  375.93  \n",
       "45  374.44  375.93  377.45  \n",
       "46  376.98  378.29  379.92  \n",
       "47  379.16  380.18  381.79  \n",
       "48  381.14  382.42  383.89  \n",
       "49  382.99  384.13  385.56  \n",
       "50  384.39  386.00  387.27  \n",
       "51  387.18  388.59  389.68  \n",
       "52  388.92  390.20  391.80  "
      ]
     },
     "execution_count": 4,
     "metadata": {},
     "output_type": "execute_result"
    }
   ],
   "source": [
    "dataframe"
   ]
  },
  {
   "cell_type": "markdown",
   "metadata": {},
   "source": [
    "## Take a look at the numpy dataset"
   ]
  },
  {
   "cell_type": "code",
   "execution_count": 5,
   "metadata": {
    "collapsed": false
   },
   "outputs": [
    {
     "data": {
      "text/plain": [
       "(53, 12)"
      ]
     },
     "execution_count": 5,
     "metadata": {},
     "output_type": "execute_result"
    }
   ],
   "source": [
    "dataset.shape"
   ]
  },
  {
   "cell_type": "markdown",
   "metadata": {},
   "source": [
    "## Reshape the data into a long vector"
   ]
  },
  {
   "cell_type": "code",
   "execution_count": 6,
   "metadata": {
    "collapsed": false
   },
   "outputs": [],
   "source": [
    "dataset_vector = dataset.reshape(-1,1)"
   ]
  },
  {
   "cell_type": "code",
   "execution_count": 7,
   "metadata": {
    "collapsed": false,
    "scrolled": true
   },
   "outputs": [
    {
     "data": {
      "text/plain": [
       "(636, 1)"
      ]
     },
     "execution_count": 7,
     "metadata": {},
     "output_type": "execute_result"
    }
   ],
   "source": [
    "dataset_vector.shape"
   ]
  },
  {
   "cell_type": "markdown",
   "metadata": {},
   "source": [
    "## Plot all the data"
   ]
  },
  {
   "cell_type": "code",
   "execution_count": 8,
   "metadata": {
    "collapsed": false
   },
   "outputs": [
    {
     "data": {
      "image/png": "[encoded data removed]",
      "text/plain": [
       "<matplotlib.figure.Figure at 0x1153f4f98>"
      ]
     },
     "metadata": {},
     "output_type": "display_data"
    }
   ],
   "source": [
    "plt.plot(dataset_vector[0:])\n",
    "plt.show()"
   ]
  },
  {
   "cell_type": "markdown",
   "metadata": {},
   "source": [
    "## Take a look at data for 1 year (1959)"
   ]
  },
  {
   "cell_type": "code",
   "execution_count": 9,
   "metadata": {
    "collapsed": false
   },
   "outputs": [
    {
     "data": {
      "text/plain": [
       "12"
      ]
     },
     "execution_count": 9,
     "metadata": {},
     "output_type": "execute_result"
    }
   ],
   "source": [
    "# 12 data points\n",
    "len(dataset_vector[1:13])"
   ]
  },
  {
   "cell_type": "code",
   "execution_count": 10,
   "metadata": {
    "collapsed": false
   },
   "outputs": [
    {
     "data": {
      "text/plain": [
       "array([[ 316.38000488],\n",
       "       [ 316.70999146],\n",
       "       [ 317.72000122],\n",
       "       [ 318.29000854],\n",
       "       [ 318.1499939 ],\n",
       "       [ 316.54000854],\n",
       "       [ 314.79998779],\n",
       "       [ 313.83999634],\n",
       "       [ 313.26000977],\n",
       "       [ 314.79998779],\n",
       "       [ 315.57998657],\n",
       "       [ 316.42999268]], dtype=float32)"
      ]
     },
     "execution_count": 10,
     "metadata": {},
     "output_type": "execute_result"
    }
   ],
   "source": [
    "dataset_vector[1:13]"
   ]
  },
  {
   "cell_type": "code",
   "execution_count": 11,
   "metadata": {
    "collapsed": false
   },
   "outputs": [
    {
     "data": {
      "image/png": "[encoded data removed]",
      "text/plain": [
       "<matplotlib.figure.Figure at 0x11542b710>"
      ]
     },
     "metadata": {},
     "output_type": "display_data"
    }
   ],
   "source": [
    "# Now do the plotting\n",
    "plt.plot(dataset_vector[0:13])\n",
    "plt.show()"
   ]
  },
  {
   "cell_type": "markdown",
   "metadata": {},
   "source": [
    "## Normalise\n",
    "\n",
    "Normalise the data so that all the values are between 0 and 1. Here we make use of ScikitLearn's MinMaxScaler() function. There are alternatives. Here is a link to various pre-processing steps that you can use: http://scikit-learn.org/stable/modules/classes.html#module-sklearn.preprocessing"
   ]
  },
  {
   "cell_type": "code",
   "execution_count": 12,
   "metadata": {
    "collapsed": false
   },
   "outputs": [
    {
     "data": {
      "text/plain": [
       "array([[ 315.61999512],\n",
       "       [ 316.38000488],\n",
       "       [ 316.70999146],\n",
       "       [ 317.72000122],\n",
       "       [ 318.29000854]], dtype=float32)"
      ]
     },
     "execution_count": 12,
     "metadata": {},
     "output_type": "execute_result"
    }
   ],
   "source": [
    "# Take a look at the values before applying the normalisation\n",
    "dataset_vector[0:5]"
   ]
  },
  {
   "cell_type": "code",
   "execution_count": 13,
   "metadata": {
    "collapsed": false
   },
   "outputs": [],
   "source": [
    "scaler = MinMaxScaler(feature_range=(0, 1))\n",
    "dataset_vector = scaler.fit_transform(dataset_vector)"
   ]
  },
  {
   "cell_type": "code",
   "execution_count": 14,
   "metadata": {
    "collapsed": false
   },
   "outputs": [
    {
     "data": {
      "text/plain": [
       "array([[ 0.02917171],\n",
       "       [ 0.03856611],\n",
       "       [ 0.04264498],\n",
       "       [ 0.05512977],\n",
       "       [ 0.06217551]], dtype=float32)"
      ]
     },
     "execution_count": 14,
     "metadata": {},
     "output_type": "execute_result"
    }
   ],
   "source": [
    "# Now look at the values after applying the normalisation (Note: it's always a good idea to print \n",
    "# your data often to the screen so you can check what's going on. This way you can easily catch mistakes\n",
    "# at an early stage).\n",
    "dataset_vector[0:5]"
   ]
  },
  {
   "cell_type": "markdown",
   "metadata": {},
   "source": [
    "## Train/test split\n",
    "\n",
    "It's not a good idea to train your model on just your training data because then you cannot check it's performance on data that it has never seen before. A good idea is to split your data into at least a training and testing set.\n",
    "\n",
    "\"Training Dataset: The sample of data used to fit the model.\"\n",
    "\n",
    "\"Test Dataset: The sample of data used to provide an <b>unbiased evaluation</b> of a final model fit on the training dataset.\"\n",
    "\n",
    "You can read more about this here: https://towardsdatascience.com/train-validation-and-test-sets-72cb40cba9e7\n",
    "\n",
    "<b> Question: do you think it would be a good idea to shuffle this data? (hint: think about what the data actually is, what is the data about?) </b>"
   ]
  },
  {
   "cell_type": "code",
   "execution_count": 15,
   "metadata": {
    "collapsed": true
   },
   "outputs": [],
   "source": [
    "# Define the amount of data that will be used for training. This is a slightly different approach to using Scikit\n",
    "# learn's built in function train_test_split. Here we are the splitting manually. It might be a good idea to try re\n",
    "# write this code to use scikit learn's function.\n",
    "train_size = int(len(dataset_vector) * 0.67)\n",
    "\n",
    "# Define the amount of data that will be used for testing (total length minus the amount of training data).\n",
    "test_size = len(dataset_vector) - train_size\n",
    "\n",
    "# Split the data manually (note that here we are not shuffling the data)\n",
    "train, test = dataset_vector[0:train_size,:], dataset_vector[train_size:len(dataset_vector),:]"
   ]
  },
  {
   "cell_type": "markdown",
   "metadata": {},
   "source": [
    "### Create the labels for the dataset\n",
    "\n",
    "As it stands, the dataset does not have labels (targets) - i.e. the things you want to predict. The dataset just has values of the carbon emission for each month across multiple years. We need to create our predictions manually by shifting the data. \n",
    "\n",
    "<b> Note: </b>\n",
    "\n",
    "The function <i>create_dataset</i> shifts the data in such a way that we can create features and targets. This will make sense in the figures below."
   ]
  },
  {
   "cell_type": "code",
   "execution_count": 16,
   "metadata": {
    "collapsed": true
   },
   "outputs": [],
   "source": [
    "def create_dataset(dataset, look_back=1):\n",
    "    dataX, dataY = [], []\n",
    "    for i in range(len(dataset)-look_back-1):\n",
    "        a = dataset[i:(i+look_back), 0]\n",
    "        dataX.append(a)\n",
    "        dataY.append(dataset[i + look_back, 0])\n",
    "    return np.array(dataX), np.array(dataY)"
   ]
  },
  {
   "cell_type": "code",
   "execution_count": 17,
   "metadata": {
    "collapsed": false
   },
   "outputs": [],
   "source": [
    "look_back = 12\n",
    "\n",
    "# Split the data into training features and training targets\n",
    "trainX, trainY = create_dataset(train, look_back)\n",
    "\n",
    "# Split the data into testing features and testing targets\n",
    "testX, testY = create_dataset(test, look_back)"
   ]
  },
  {
   "cell_type": "markdown",
   "metadata": {},
   "source": [
    "### Print out the shape of the data\n",
    "\n",
    "Always a good idea to print the shapes to make sure that everything worked well."
   ]
  },
  {
   "cell_type": "code",
   "execution_count": 18,
   "metadata": {
    "collapsed": false,
    "scrolled": false
   },
   "outputs": [
    {
     "name": "stdout",
     "output_type": "stream",
     "text": [
      "Train X shape  (413, 12)\n",
      "Train Y shape (413,)\n",
      "Test X shape  (197, 12)\n",
      "Test Y shape  (197,)\n"
     ]
    }
   ],
   "source": [
    "print('Train X shape ',trainX.shape)\n",
    "print('Train Y shape',trainY.shape)\n",
    "print('Test X shape ',testX.shape)\n",
    "print('Test Y shape ',testY.shape)"
   ]
  },
  {
   "cell_type": "markdown",
   "metadata": {},
   "source": [
    "## Things will start making sense from here onwards"
   ]
  },
  {
   "cell_type": "code",
   "execution_count": 19,
   "metadata": {
    "collapsed": false,
    "scrolled": false
   },
   "outputs": [
    {
     "data": {
      "text/html": [
       "<div>\n",
       "<table border=\"1\" class=\"dataframe\">\n",
       "  <thead>\n",
       "    <tr style=\"text-align: right;\">\n",
       "      <th></th>\n",
       "      <th>1</th>\n",
       "      <th>2</th>\n",
       "      <th>3</th>\n",
       "      <th>4</th>\n",
       "      <th>5</th>\n",
       "      <th>6</th>\n",
       "      <th>7</th>\n",
       "      <th>8</th>\n",
       "      <th>9</th>\n",
       "      <th>10</th>\n",
       "      <th>11</th>\n",
       "      <th>12</th>\n",
       "    </tr>\n",
       "  </thead>\n",
       "  <tbody>\n",
       "    <tr>\n",
       "      <th>0</th>\n",
       "      <td>315.62</td>\n",
       "      <td>316.38</td>\n",
       "      <td>316.71</td>\n",
       "      <td>317.72</td>\n",
       "      <td>318.29</td>\n",
       "      <td>318.15</td>\n",
       "      <td>316.54</td>\n",
       "      <td>314.80</td>\n",
       "      <td>313.84</td>\n",
       "      <td>313.26</td>\n",
       "      <td>314.80</td>\n",
       "      <td>315.58</td>\n",
       "    </tr>\n",
       "    <tr>\n",
       "      <th>1</th>\n",
       "      <td>316.43</td>\n",
       "      <td>316.97</td>\n",
       "      <td>317.58</td>\n",
       "      <td>319.02</td>\n",
       "      <td>320.03</td>\n",
       "      <td>319.59</td>\n",
       "      <td>318.18</td>\n",
       "      <td>315.91</td>\n",
       "      <td>314.16</td>\n",
       "      <td>313.83</td>\n",
       "      <td>315.00</td>\n",
       "      <td>316.19</td>\n",
       "    </tr>\n",
       "    <tr>\n",
       "      <th>2</th>\n",
       "      <td>316.93</td>\n",
       "      <td>317.70</td>\n",
       "      <td>318.54</td>\n",
       "      <td>319.48</td>\n",
       "      <td>320.58</td>\n",
       "      <td>319.77</td>\n",
       "      <td>318.57</td>\n",
       "      <td>316.79</td>\n",
       "      <td>314.80</td>\n",
       "      <td>315.38</td>\n",
       "      <td>316.10</td>\n",
       "      <td>317.01</td>\n",
       "    </tr>\n",
       "    <tr>\n",
       "      <th>3</th>\n",
       "      <td>317.94</td>\n",
       "      <td>318.56</td>\n",
       "      <td>319.68</td>\n",
       "      <td>320.63</td>\n",
       "      <td>321.01</td>\n",
       "      <td>320.55</td>\n",
       "      <td>319.58</td>\n",
       "      <td>317.40</td>\n",
       "      <td>316.26</td>\n",
       "      <td>315.42</td>\n",
       "      <td>316.69</td>\n",
       "      <td>317.69</td>\n",
       "    </tr>\n",
       "    <tr>\n",
       "      <th>4</th>\n",
       "      <td>318.74</td>\n",
       "      <td>319.08</td>\n",
       "      <td>319.86</td>\n",
       "      <td>321.39</td>\n",
       "      <td>322.25</td>\n",
       "      <td>321.47</td>\n",
       "      <td>319.74</td>\n",
       "      <td>317.77</td>\n",
       "      <td>316.21</td>\n",
       "      <td>315.99</td>\n",
       "      <td>317.12</td>\n",
       "      <td>318.31</td>\n",
       "    </tr>\n",
       "  </tbody>\n",
       "</table>\n",
       "</div>"
      ],
      "text/plain": [
       "        1       2       3       4       5       6       7       8       9  \\\n",
       "0  315.62  316.38  316.71  317.72  318.29  318.15  316.54  314.80  313.84   \n",
       "1  316.43  316.97  317.58  319.02  320.03  319.59  318.18  315.91  314.16   \n",
       "2  316.93  317.70  318.54  319.48  320.58  319.77  318.57  316.79  314.80   \n",
       "3  317.94  318.56  319.68  320.63  321.01  320.55  319.58  317.40  316.26   \n",
       "4  318.74  319.08  319.86  321.39  322.25  321.47  319.74  317.77  316.21   \n",
       "\n",
       "       10      11      12  \n",
       "0  313.26  314.80  315.58  \n",
       "1  313.83  315.00  316.19  \n",
       "2  315.38  316.10  317.01  \n",
       "3  315.42  316.69  317.69  \n",
       "4  315.99  317.12  318.31  "
      ]
     },
     "execution_count": 19,
     "metadata": {},
     "output_type": "execute_result"
    }
   ],
   "source": [
    "dataframe.head()"
   ]
  },
  {
   "cell_type": "markdown",
   "metadata": {},
   "source": [
    "### Here is training example 1. \n",
    "\n",
    "Double (red) lines shows the 12 training examples, and the single (blue) line shows the 1 test example.\n",
    "\n",
    "Here of values are not normalised."
   ]
  },
  {
   "cell_type": "markdown",
   "metadata": {},
   "source": [
    "<img src=\"example1.png\">"
   ]
  },
  {
   "cell_type": "markdown",
   "metadata": {},
   "source": [
    "### Here is training example 2. \n",
    "\n",
    "Double (red) lines shows the 12 training examples, and the single (blue) line shows the 1 test example.\n",
    "\n",
    "Here of values are not normalised.\n",
    "\n",
    "<i> Can you notice how the lines have shifted? This is how we construct training and test data for time-series problems. </i>"
   ]
  },
  {
   "cell_type": "markdown",
   "metadata": {},
   "source": [
    "<img src=\"example2.png\">"
   ]
  },
  {
   "cell_type": "markdown",
   "metadata": {},
   "source": [
    "## We can also check this in numpy.\n",
    "\n",
    "You can verify the first and second training examples to the 14 first points in the vector below."
   ]
  },
  {
   "cell_type": "markdown",
   "metadata": {},
   "source": [
    "First take the look at the first 14 points in the normalised dataset. We will reference to this to show you how the training and testing data was constructed."
   ]
  },
  {
   "cell_type": "code",
   "execution_count": 20,
   "metadata": {
    "collapsed": false
   },
   "outputs": [
    {
     "data": {
      "text/plain": [
       "array([[ 0.02917171],\n",
       "       [ 0.03856611],\n",
       "       [ 0.04264498],\n",
       "       [ 0.05512977],\n",
       "       [ 0.06217551],\n",
       "       [ 0.06044483],\n",
       "       [ 0.04054403],\n",
       "       [ 0.01903558],\n",
       "       [ 0.00716925],\n",
       "       [ 0.        ],\n",
       "       [ 0.01903558],\n",
       "       [ 0.02867723],\n",
       "       [ 0.03918409],\n",
       "       [ 0.0458591 ]], dtype=float32)"
      ]
     },
     "execution_count": 20,
     "metadata": {},
     "output_type": "execute_result"
    }
   ],
   "source": [
    "dataset_vector[0:14]"
   ]
  },
  {
   "cell_type": "markdown",
   "metadata": {},
   "source": [
    "The first training example was the first 12 data points"
   ]
  },
  {
   "cell_type": "code",
   "execution_count": 21,
   "metadata": {
    "collapsed": false
   },
   "outputs": [
    {
     "data": {
      "text/plain": [
       "array([ 0.02917171,  0.03856611,  0.04264498,  0.05512977,  0.06217551,\n",
       "        0.06044483,  0.04054403,  0.01903558,  0.00716925,  0.        ,\n",
       "        0.01903558,  0.02867723], dtype=float32)"
      ]
     },
     "execution_count": 21,
     "metadata": {},
     "output_type": "execute_result"
    }
   ],
   "source": [
    "trainX[0]"
   ]
  },
  {
   "cell_type": "markdown",
   "metadata": {},
   "source": [
    "The test example is actually the 13th month (i.e. the first month in the 2nd year)"
   ]
  },
  {
   "cell_type": "code",
   "execution_count": 22,
   "metadata": {
    "collapsed": false
   },
   "outputs": [
    {
     "data": {
      "text/plain": [
       "0.039184093"
      ]
     },
     "execution_count": 22,
     "metadata": {},
     "output_type": "execute_result"
    }
   ],
   "source": [
    "trainY[0]"
   ]
  },
  {
   "cell_type": "markdown",
   "metadata": {},
   "source": [
    "The second training example is the 2nd month to the 13th month <b>(can you see how we shifted everything by 1 time step) </b>"
   ]
  },
  {
   "cell_type": "code",
   "execution_count": 23,
   "metadata": {
    "collapsed": false,
    "scrolled": true
   },
   "outputs": [
    {
     "data": {
      "text/plain": [
       "array([ 0.03856611,  0.04264498,  0.05512977,  0.06217551,  0.06044483,\n",
       "        0.04054403,  0.01903558,  0.00716925,  0.        ,  0.01903558,\n",
       "        0.02867723,  0.03918409], dtype=float32)"
      ]
     },
     "execution_count": 23,
     "metadata": {},
     "output_type": "execute_result"
    }
   ],
   "source": [
    "trainX[1]"
   ]
  },
  {
   "cell_type": "markdown",
   "metadata": {},
   "source": [
    "The second testing example is the 14th month (i.e. the second month in the 2nd year)."
   ]
  },
  {
   "cell_type": "code",
   "execution_count": 24,
   "metadata": {
    "collapsed": false
   },
   "outputs": [
    {
     "data": {
      "text/plain": [
       "0.045859098"
      ]
     },
     "execution_count": 24,
     "metadata": {},
     "output_type": "execute_result"
    }
   ],
   "source": [
    "trainY[1]"
   ]
  },
  {
   "cell_type": "markdown",
   "metadata": {},
   "source": [
    "## Reshape to [samples, timesteps, features]\n",
    "\n",
    "We need to reshape the data into [samples, timesteps, features] as this is what Keras expects.\n",
    "\n",
    "Samples denotes each example. (e.g. we have 413 training examples and 197 test examples)\n",
    "\n",
    "Time steps denotes each time step for each of the points. In our case we have 12 time steps.\n",
    "\n",
    "It is possible that you have multiple features at each time step. In our dataset we just a single carbon emission feature at each time step hence we use a value of one."
   ]
  },
  {
   "cell_type": "code",
   "execution_count": 25,
   "metadata": {
    "collapsed": false
   },
   "outputs": [],
   "source": [
    "trainX = np.reshape(trainX, (trainX.shape[0], trainX.shape[1], 1))\n",
    "testX = np.reshape(testX, (testX.shape[0], testX.shape[1], 1))"
   ]
  },
  {
   "cell_type": "markdown",
   "metadata": {},
   "source": [
    "### Check that the numpy reshape function actually did what we wanted.\n",
    "\n",
    "Here we want [samples, timesteps, features]. And indeed the output for training is (413, 12, 1) whereby we have 413 training samples, 12 time steps for each point, and there is only 1 feature per time step."
   ]
  },
  {
   "cell_type": "code",
   "execution_count": 26,
   "metadata": {
    "collapsed": false,
    "scrolled": false
   },
   "outputs": [
    {
     "name": "stdout",
     "output_type": "stream",
     "text": [
      "Train X shape  (413, 12, 1)\n",
      "Train Y shape (413,)\n",
      "Test X shape  (197, 12, 1)\n",
      "Test Y shape  (197,)\n"
     ]
    }
   ],
   "source": [
    "print('Train X shape ',trainX.shape)\n",
    "print('Train Y shape',trainY.shape)\n",
    "print('Test X shape ',testX.shape)\n",
    "print('Test Y shape ',testY.shape)"
   ]
  },
  {
   "cell_type": "markdown",
   "metadata": {},
   "source": [
    "# Now it's time to make the LSTM models!"
   ]
  },
  {
   "cell_type": "markdown",
   "metadata": {},
   "source": [
    "<hr>"
   ]
  },
  {
   "cell_type": "markdown",
   "metadata": {},
   "source": [
    "## Create a (stateless) LSTM model\n",
    "\n",
    "Here is where we create the LSTM model in Keras"
   ]
  },
  {
   "cell_type": "code",
   "execution_count": 27,
   "metadata": {
    "collapsed": true
   },
   "outputs": [],
   "source": [
    "# Define the model in Keras\n",
    "model = Sequential()"
   ]
  },
  {
   "cell_type": "code",
   "execution_count": 28,
   "metadata": {
    "collapsed": false
   },
   "outputs": [],
   "source": [
    "# This is how we add an LSTM cell. (We can stack multiple cells on top of each other by repeating this line)\n",
    "model.add(LSTM(8, batch_input_shape=(None, 12, 1), stateful=False))"
   ]
  },
  {
   "cell_type": "code",
   "execution_count": 29,
   "metadata": {
    "collapsed": false
   },
   "outputs": [],
   "source": [
    "# We have to add a fully connected layer of the LSTM to output the predictions. Here we only have 1 node because\n",
    "# our time-series prediction is expecting one output. \n",
    "model.add(Dense(1))"
   ]
  },
  {
   "cell_type": "code",
   "execution_count": 30,
   "metadata": {
    "collapsed": false
   },
   "outputs": [],
   "source": [
    "# We define our loss function. Here since we are dealing with numerical data, one option is to use mean squared error.\n",
    "model.compile(loss='mean_squared_error', optimizer='adam')"
   ]
  },
  {
   "cell_type": "code",
   "execution_count": 31,
   "metadata": {
    "collapsed": false,
    "scrolled": false
   },
   "outputs": [
    {
     "name": "stdout",
     "output_type": "stream",
     "text": [
      "_________________________________________________________________\n",
      "Layer (type)                 Output Shape              Param #   \n",
      "=================================================================\n",
      "lstm_1 (LSTM)                (None, 8)                 320       \n",
      "_________________________________________________________________\n",
      "dense_1 (Dense)              (None, 1)                 9         \n",
      "=================================================================\n",
      "Total params: 329\n",
      "Trainable params: 329\n",
      "Non-trainable params: 0\n",
      "_________________________________________________________________\n"
     ]
    }
   ],
   "source": [
    "# Check the number of parameters. Always a good idea to take a look at the model from Keras' point of view\n",
    "model.summary()"
   ]
  },
  {
   "cell_type": "markdown",
   "metadata": {},
   "source": [
    "### Start training the model\n",
    "\n",
    "We need to specify a few things:\n",
    "\n",
    "<li> training features\n",
    "<li> training targets\n",
    "<li> number of epochs\n",
    "<li> batch size\n",
    "\n",
    "We also mention the verbose which denotes how much we are outputing to the screen during the training process"
   ]
  },
  {
   "cell_type": "code",
   "execution_count": 33,
   "metadata": {
    "collapsed": false,
    "scrolled": false
   },
   "outputs": [
    {
     "name": "stdout",
     "output_type": "stream",
     "text": [
      "Epoch 1/15\n",
      "2s - loss: 0.0514\n",
      "Epoch 2/15\n",
      "1s - loss: 0.0227\n",
      "Epoch 3/15\n",
      "1s - loss: 0.0198\n",
      "Epoch 4/15\n",
      "1s - loss: 0.0141\n",
      "Epoch 5/15\n",
      "1s - loss: 0.0100\n",
      "Epoch 6/15\n",
      "1s - loss: 0.0065\n",
      "Epoch 7/15\n",
      "2s - loss: 0.0039\n",
      "Epoch 8/15\n",
      "1s - loss: 0.0022\n",
      "Epoch 9/15\n",
      "1s - loss: 0.0014\n",
      "Epoch 10/15\n",
      "1s - loss: 0.0011\n",
      "Epoch 11/15\n",
      "1s - loss: 0.0011\n",
      "Epoch 12/15\n",
      "1s - loss: 0.0010\n",
      "Epoch 13/15\n",
      "1s - loss: 0.0010\n",
      "Epoch 14/15\n",
      "1s - loss: 0.0010\n",
      "Epoch 15/15\n",
      "1s - loss: 0.0010\n"
     ]
    },
    {
     "data": {
      "text/plain": [
       "<keras.callbacks.History at 0x116624a90>"
      ]
     },
     "execution_count": 33,
     "metadata": {},
     "output_type": "execute_result"
    }
   ],
   "source": [
    "model.fit(trainX, trainY, epochs=15, batch_size=10, verbose = 2, shuffle=False)"
   ]
  },
  {
   "cell_type": "markdown",
   "metadata": {},
   "source": [
    "## Predict on the test data and prepare the data for plotting"
   ]
  },
  {
   "cell_type": "code",
   "execution_count": 34,
   "metadata": {
    "collapsed": true
   },
   "outputs": [],
   "source": [
    "# Estimate model performance\n",
    "trainScore = model.evaluate(trainX, trainY, batch_size=batch_size, verbose=0)\n",
    "model.reset_states()\n",
    "trainScore = math.sqrt(trainScore)\n",
    "trainScore = scaler.inverse_transform(np.array([[trainScore]]))\n",
    "\n",
    "testScore = model.evaluate(testX, testY, batch_size=batch_size, verbose=0)\n",
    "model.reset_states()\n",
    "testScore = math.sqrt(testScore)\n",
    "testScore = scaler.inverse_transform(np.array([[testScore]]))\n",
    "\n",
    "# generate predictions for training\n",
    "trainPredict = model.predict(trainX, batch_size=batch_size)\n",
    "testPredict = model.predict(testX, batch_size=batch_size)\n",
    "# shift train predictions for plotting\n",
    "trainPredictPlot = np.empty_like(dataset_vector)\n",
    "trainPredictPlot[:, :] = np.nan\n",
    "trainPredictPlot[look_back:len(trainPredict)+look_back, :] = trainPredict\n",
    "\n",
    "# shift test predictions for plotting\n",
    "testPredictPlot = np.empty_like(dataset_vector)\n",
    "testPredictPlot[:, :] = np.nan\n",
    "testPredictPlot[len(trainPredict)+(look_back*2)+1:len(dataset_vector)-1, :] = testPredict"
   ]
  },
  {
   "cell_type": "markdown",
   "metadata": {},
   "source": [
    "## Plot the predictions and the correct targets"
   ]
  },
  {
   "cell_type": "code",
   "execution_count": 35,
   "metadata": {
    "collapsed": false
   },
   "outputs": [
    {
     "data": {
      "image/png": "[encoded data removed]",
      "text/plain": [
       "<matplotlib.figure.Figure at 0x116718d30>"
      ]
     },
     "metadata": {},
     "output_type": "display_data"
    }
   ],
   "source": [
    "plt.plot(dataset_vector)\n",
    "plt.plot(trainPredictPlot)\n",
    "plt.plot(testPredictPlot)\n",
    "plt.show()"
   ]
  },
  {
   "cell_type": "markdown",
   "metadata": {},
   "source": [
    "<hr>"
   ]
  },
  {
   "cell_type": "markdown",
   "metadata": {},
   "source": [
    "# Stateful model\n",
    "\n",
    "In the stateless LSTM configuration, <b>internal state is reset after each training batch</b> or each batch when making predictions."
   ]
  },
  {
   "cell_type": "code",
   "execution_count": 44,
   "metadata": {
    "collapsed": true
   },
   "outputs": [],
   "source": [
    "# Define the model in Keras\n",
    "model = Sequential()"
   ]
  },
  {
   "cell_type": "code",
   "execution_count": 45,
   "metadata": {
    "collapsed": false
   },
   "outputs": [],
   "source": [
    "# This is how we add an LSTM cell. (We can stack multiple cells on top of each other by repeating this line)\n",
    "model.add(LSTM(8, batch_input_shape=(1, 12, 1), stateful=True))"
   ]
  },
  {
   "cell_type": "code",
   "execution_count": 46,
   "metadata": {
    "collapsed": true
   },
   "outputs": [],
   "source": [
    "# We have to add a fully connected layer of the LSTM to output the predictions. Here we only have 1 node because\n",
    "# our time-series prediction is expecting one output. \n",
    "model.add(Dense(1))"
   ]
  },
  {
   "cell_type": "code",
   "execution_count": 47,
   "metadata": {
    "collapsed": true
   },
   "outputs": [],
   "source": [
    "# We define our loss function. Here since we are dealing with numerical data, one option is to use mean squared error.\n",
    "model.compile(loss='mean_squared_error', optimizer='adam')"
   ]
  },
  {
   "cell_type": "code",
   "execution_count": 48,
   "metadata": {
    "collapsed": false,
    "scrolled": true
   },
   "outputs": [
    {
     "name": "stdout",
     "output_type": "stream",
     "text": [
      "_________________________________________________________________\n",
      "Layer (type)                 Output Shape              Param #   \n",
      "=================================================================\n",
      "lstm_3 (LSTM)                (1, 8)                    320       \n",
      "_________________________________________________________________\n",
      "dense_3 (Dense)              (1, 1)                    9         \n",
      "=================================================================\n",
      "Total params: 329\n",
      "Trainable params: 329\n",
      "Non-trainable params: 0\n",
      "_________________________________________________________________\n"
     ]
    }
   ],
   "source": [
    "# Check the number of parameters. Always a good idea to take a look at the model from Keras' point of view\n",
    "model.summary()"
   ]
  },
  {
   "cell_type": "markdown",
   "metadata": {},
   "source": [
    "## Training is done slightly differently for a stateful model\n",
    "\n",
    "A number of points:\n",
    "\n",
    "<li>Here we have a for loop.\n",
    "\n",
    "<li>In each iteration of the for loop we fit the model on a number of epochs, in this case 1 epoch per iteration.\n",
    "\n",
    "<li>After each fitting of the model on the epochs, we reset the cell states by calling the reset_states() function. \n",
    "\n",
    "<li>Remember that in a stateless model the cell states are reset after each training batch. So here we keep the cell states between batches."
   ]
  },
  {
   "cell_type": "code",
   "execution_count": 49,
   "metadata": {
    "collapsed": false
   },
   "outputs": [
    {
     "name": "stdout",
     "output_type": "stream",
     "text": [
      "Epoch 1/1\n",
      "17s - loss: 9.8307e-04\n",
      "Epoch 1/1\n",
      "16s - loss: 0.0011\n",
      "Epoch 1/1\n",
      "15s - loss: 9.6222e-04\n",
      "Epoch 1/1\n",
      "15s - loss: 9.0620e-04\n",
      "Epoch 1/1\n",
      "15s - loss: 8.7438e-04\n",
      "Epoch 1/1\n",
      "15s - loss: 8.4119e-04\n",
      "Epoch 1/1\n",
      "15s - loss: 7.7191e-04\n",
      "Epoch 1/1\n",
      "15s - loss: 4.6601e-04\n",
      "Epoch 1/1\n",
      "16s - loss: 1.4527e-04\n",
      "Epoch 1/1\n",
      "15s - loss: 1.3348e-04\n"
     ]
    }
   ],
   "source": [
    "for i in range(10):\n",
    "    model.fit(trainX, trainY, epochs=1, batch_size=1, verbose=2, shuffle=False)\n",
    "    model.reset_states()\n",
    "# Estimate model performance"
   ]
  },
  {
   "cell_type": "markdown",
   "metadata": {},
   "source": [
    "## Predict on the test data and prepare the data for plotting"
   ]
  },
  {
   "cell_type": "code",
   "execution_count": 50,
   "metadata": {
    "collapsed": false
   },
   "outputs": [],
   "source": [
    "# Estimate model performance\n",
    "trainScore = model.evaluate(trainX, trainY, batch_size=1, verbose=0)\n",
    "model.reset_states()\n",
    "trainScore = math.sqrt(trainScore)\n",
    "trainScore = scaler.inverse_transform(np.array([[trainScore]]))\n",
    "\n",
    "testScore = model.evaluate(testX, testY, batch_size=1, verbose=0)\n",
    "model.reset_states()\n",
    "testScore = math.sqrt(testScore)\n",
    "testScore = scaler.inverse_transform(np.array([[testScore]]))\n",
    "\n",
    "# generate predictions for training\n",
    "trainPredict = model.predict(trainX, batch_size=1)\n",
    "testPredict = model.predict(testX, batch_size=1)\n",
    "# shift train predictions for plotting\n",
    "trainPredictPlot = np.empty_like(dataset_vector)\n",
    "trainPredictPlot[:, :] = np.nan\n",
    "trainPredictPlot[look_back:len(trainPredict)+look_back, :] = trainPredict\n",
    "\n",
    "# shift test predictions for plotting\n",
    "testPredictPlot = np.empty_like(dataset_vector)\n",
    "testPredictPlot[:, :] = np.nan\n",
    "testPredictPlot[len(trainPredict)+(look_back*2)+1:len(dataset_vector)-1, :] = testPredict"
   ]
  },
  {
   "cell_type": "markdown",
   "metadata": {},
   "source": [
    "## Plot the predictions and the correct targets"
   ]
  },
  {
   "cell_type": "code",
   "execution_count": 51,
   "metadata": {
    "collapsed": false
   },
   "outputs": [
    {
     "data": {
      "image/png": "[encoded data removed]",
      "text/plain": [
       "<matplotlib.figure.Figure at 0x11a3ae860>"
      ]
     },
     "metadata": {},
     "output_type": "display_data"
    }
   ],
   "source": [
    "plt.plot(dataset_vector)\n",
    "plt.plot(trainPredictPlot)\n",
    "plt.plot(testPredictPlot)\n",
    "plt.show()"
   ]
  },
  {
   "cell_type": "markdown",
   "metadata": {},
   "source": [
    "<hr>"
   ]
  },
  {
   "cell_type": "markdown",
   "metadata": {},
   "source": [
    "### Hyper-parameters\n",
    "\n",
    "There are a few tips on how to tune the hyper-parameters for LSTMs here: https://deeplearning4j.org/lstm.html#tuning Note that those tips contain information about another programming library (DL4J), however everything they refer to has equivalents in Keras."
   ]
  },
  {
   "cell_type": "code",
   "execution_count": null,
   "metadata": {
    "collapsed": true
   },
   "outputs": [],
   "source": []
  }
 ],
 "metadata": {
  "kernelspec": {
   "display_name": "Python 3",
   "language": "python",
   "name": "python3"
  },
  "language_info": {
   "codemirror_mode": {
    "name": "ipython",
    "version": 3
   },
   "file_extension": ".py",
   "mimetype": "text/x-python",
   "name": "python",
   "nbconvert_exporter": "python",
   "pygments_lexer": "ipython3",
   "version": "3.5.2"
  }
 },
 "nbformat": 4,
 "nbformat_minor": 2
}
