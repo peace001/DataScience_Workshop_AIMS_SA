{
 "cells": [
  {
   "cell_type": "code",
   "execution_count": null,
   "metadata": {
    "ExecuteTime": {
     "end_time": "2017-08-21T09:47:45.845701Z",
     "start_time": "2017-08-21T09:47:45.839841Z"
    },
    "collapsed": true,
    "deletable": false,
    "editable": false,
    "nbgrader": {
     "checksum": "24528a31e42e7f6ddfff25a282ef7759",
     "grade": false,
     "grade_id": "cell-2f597a452eac5737",
     "locked": true,
     "schema_version": 1,
     "solution": false
    }
   },
   "outputs": [],
   "source": [
    "import numpy as np\n",
    "import pandas as pd\n",
    "import matplotlib as mpl\n",
    "import matplotlib.pyplot as plt\n",
    "import seaborn as sns"
   ]
  },
  {
   "cell_type": "markdown",
   "metadata": {
    "deletable": false,
    "editable": false,
    "nbgrader": {
     "checksum": "38860d1723afe1f79b04560d2c35356d",
     "grade": false,
     "grade_id": "cell-3f4811f0671d7991",
     "locked": true,
     "schema_version": 1,
     "solution": false
    }
   },
   "source": [
    "### Instructions \n",
    "\n",
    "1. This assignment relies on [pandas-datareader](https://pandas-datareader.readthedocs.io/en/latest/index.html) for the data.\n",
    "2. You will need to ensure that your proxy settings are correct if used within wits."
   ]
  },
  {
   "cell_type": "markdown",
   "metadata": {
    "deletable": false,
    "editable": false,
    "nbgrader": {
     "checksum": "3c8db232fcb9ba9ee11e6062eb607860",
     "grade": false,
     "grade_id": "cell-1bc05cd0ee9cea15",
     "locked": true,
     "schema_version": 1,
     "solution": false
    }
   },
   "source": [
    "### Question 1\n",
    "Below we construct a line plot showing the relationship between crime\n",
    "and murders in South Africa in $2014/2015$ for each province. The data \n",
    "is read from the csv file ```vocs2014!2015house_F1.csv```. If you don't have \n",
    "the file then download it from Sakai and place it in the same directory as your\n",
    "Jupyter notebook."
   ]
  },
  {
   "cell_type": "code",
   "execution_count": null,
   "metadata": {
    "ExecuteTime": {
     "end_time": "2017-08-21T09:47:50.180213Z",
     "start_time": "2017-08-21T09:47:49.834598Z"
    },
    "collapsed": true,
    "deletable": false,
    "editable": false,
    "nbgrader": {
     "checksum": "a7d460ef3d956c462651b4495f6827c6",
     "grade": false,
     "grade_id": "cell-62c3354907ee166f",
     "locked": true,
     "schema_version": 1,
     "solution": false
    }
   },
   "outputs": [],
   "source": [
    "import pandas as pd\n",
    "df_crime = pd.read_csv('vocs2014!2015house_F1.csv')\n",
    "df_crime['Province'] = df_crime.PROV.map({1:'Western Cape',\n",
    "                                          2:'Eastern Cape',\n",
    "                                          3:'Northern Cape',\n",
    "                                          4:'Free State',\n",
    "                                          5:'KwaZulu-Natal',\n",
    "                                          6:'North West',\n",
    "                                          7:'Gauteng',\n",
    "                                          8:'Mpumalanga',\n",
    "                                          9:'Limpopo'})\n",
    "df_crime['Burglaries'] = df_crime['Q10bHous']==1\n",
    "df_crime['Murders'] = df_crime['Q10fMurder']==1\n",
    "df_crime['Sample'] = 1\n",
    "df_crime = df_crime[['Province','Burglaries','Murders', 'Sample']].groupby('Province').sum()\n",
    "df_crime['Burglaries'] /= df_crime['Sample']/100000\n",
    "df_crime['Murders'] /= df_crime['Sample']/100000\n",
    "df_crime.plot()\n",
    "plt.show()"
   ]
  },
  {
   "cell_type": "markdown",
   "metadata": {
    "ExecuteTime": {
     "end_time": "2017-08-14T14:05:41.430652Z",
     "start_time": "2017-08-14T14:05:41.414851Z"
    },
    "deletable": false,
    "editable": false,
    "nbgrader": {
     "checksum": "1e47c274c0dc72d2d058bfb13f7358b9",
     "grade": false,
     "grade_id": "cell-af591b8b21bbf955",
     "locked": true,
     "schema_version": 1,
     "solution": false
    }
   },
   "source": [
    "#### Question 1.a [5]\n",
    "The above plot is not very meaningful as a line plot. Try to replicate the results \n",
    "from slides [Multivaraiate Data Visualizations, slide $9$], for South Africa. \n",
    "Has your bubble plot got the correct size bubbles?"
   ]
  },
  {
   "cell_type": "code",
   "execution_count": null,
   "metadata": {
    "ExecuteTime": {
     "end_time": "2017-08-21T09:47:54.429686Z",
     "start_time": "2017-08-21T09:47:54.130961Z"
    },
    "collapsed": true,
    "deletable": false,
    "nbgrader": {
     "checksum": "e809641ed2b6c71b7c98cb2e03aa5da6",
     "grade": true,
     "grade_id": "cell-62f39370c29e25ed",
     "locked": false,
     "points": 5,
     "schema_version": 1,
     "solution": true
    }
   },
   "outputs": [],
   "source": [
    "# YOUR CODE HERE\n",
    "raise NotImplementedError()"
   ]
  },
  {
   "cell_type": "markdown",
   "metadata": {
    "deletable": false,
    "editable": false,
    "nbgrader": {
     "checksum": "440f320f1cd1e1b5cf2012b19b401554",
     "grade": false,
     "grade_id": "cell-a409f4585d004817",
     "locked": true,
     "schema_version": 1,
     "solution": false
    }
   },
   "source": [
    "### Question 2\n",
    "Below we fetch data from the the world bank:\n",
    "1. [Life Expectancy](http://data.worldbank.org/indicator/SP.DYN.LE00.IN?view=chart)\n",
    "1. [Income Per Person](http://data.worldbank.org/indicator/NY.ADJ.NNTY.PC.CD?view=chart)\n",
    "1. [Population](http://data.worldbank.org/indicator/SP.POP.TOTL?view=chart)\n",
    "\n",
    "we also get the country codes from the file ```wb_country_codes.csv``` which\n",
    "can be found on Sakai."
   ]
  },
  {
   "cell_type": "code",
   "execution_count": null,
   "metadata": {
    "ExecuteTime": {
     "end_time": "2017-08-21T09:48:10.747839Z",
     "start_time": "2017-08-21T09:48:10.717040Z"
    },
    "collapsed": true,
    "deletable": false,
    "editable": false,
    "nbgrader": {
     "checksum": "5832be2e01eb95c43472b33d5441504d",
     "grade": false,
     "grade_id": "cell-9ec7001a5a655c9d",
     "locked": true,
     "schema_version": 1,
     "solution": false
    }
   },
   "outputs": [],
   "source": [
    "# from pandas_datareader import wb\n",
    "# df_tmp = wb.download(indicator=['SP.DYN.LE00.IN', 'NY.ADJ.NNTY.PC.CD','SP.POP.TOTL'], country='all', start=2012, end=2012)\n",
    "# df_tmp = df_tmp.groupby(level=0).first().dropna()\n",
    "# df_tmp.rename(columns={'SP.DYN.LE00.IN':'Life Expectancy',\n",
    "#                                'SP.POP.TOTL':'Population',\n",
    "#                                'NY.ADJ.NNTY.PC.CD':'Income Per Person' }, inplace=True)\n",
    "# df_tmp.to_csv('df_life_vs_gdp.csv')\n",
    "df_tmp = pd.read_csv('df_life_vs_gdp.csv', index_col='country')\n",
    "df_country_codes = pd.read_csv('wb_country_codes.csv', index_col='Economy')\n",
    "df_life_vs_gdp = df_tmp.join(df_country_codes)[['Life Expectancy','Income Per Person','Population','Code','Region','Income group']].dropna()"
   ]
  },
  {
   "cell_type": "code",
   "execution_count": null,
   "metadata": {
    "ExecuteTime": {
     "end_time": "2017-08-21T09:48:11.601846Z",
     "start_time": "2017-08-21T09:48:11.577968Z"
    },
    "collapsed": true,
    "deletable": false,
    "editable": false,
    "nbgrader": {
     "checksum": "54ff83d7081c7dc5c6f625699e70c0f8",
     "grade": false,
     "grade_id": "cell-f359c969ae093a51",
     "locked": true,
     "schema_version": 1,
     "solution": false
    }
   },
   "outputs": [],
   "source": [
    "df_life_vs_gdp.head()"
   ]
  },
  {
   "cell_type": "markdown",
   "metadata": {
    "deletable": false,
    "editable": false,
    "nbgrader": {
     "checksum": "1b22b85398e856cd1fb117e46e61ba24",
     "grade": false,
     "grade_id": "cell-567e1a8d581681cc",
     "locked": true,
     "schema_version": 1,
     "solution": false
    }
   },
   "source": [
    "We can use the above data to emulate the charts from slides \n",
    "[Multivaraiate Data Visualizations, slide $10$ and $12$]"
   ]
  },
  {
   "cell_type": "code",
   "execution_count": null,
   "metadata": {
    "ExecuteTime": {
     "end_time": "2017-08-21T09:48:15.575170Z",
     "start_time": "2017-08-21T09:48:15.065739Z"
    },
    "collapsed": true,
    "deletable": false,
    "editable": false,
    "nbgrader": {
     "checksum": "1bc104afcd4fd94d59c187875021a8b1",
     "grade": false,
     "grade_id": "cell-8c701dc8946113d3",
     "locked": true,
     "schema_version": 1,
     "solution": false
    }
   },
   "outputs": [],
   "source": [
    "sns.set(style=\"whitegrid\", color_codes=True)\n",
    "ax = df_life_vs_gdp.plot.scatter(y='Life Expectancy', x='Income Per Person', \n",
    "                                 s=df_life_vs_gdp.Population/1e6, \n",
    "                                 cmap='tab20c', c=range(0, len(df_life_vs_gdp.index)), \n",
    "                                 alpha=0.6, figsize=(16,8))\n",
    "plt.xscale('log')\n",
    "plt.xlabel('Income per Person in US Dollars (GDP/capita, PPP$ inflation adjusted, log scale)')\n",
    "plt.ylabel('Life Expectancy in years')\n",
    "plt.show()"
   ]
  },
  {
   "cell_type": "markdown",
   "metadata": {
    "ExecuteTime": {
     "end_time": "2017-08-15T07:48:20.646962Z",
     "start_time": "2017-08-15T07:48:20.611216Z"
    },
    "deletable": false,
    "editable": false,
    "nbgrader": {
     "checksum": "2479b9c0cae3acc50abc8005a0953ed6",
     "grade": false,
     "grade_id": "cell-8a9a5fa23cf43752",
     "locked": true,
     "schema_version": 1,
     "solution": false
    }
   },
   "source": [
    "#### Question 2.a [5]\n",
    "Unfortunately the chart lacks context. Mark the BRICS countries on the chart."
   ]
  },
  {
   "cell_type": "code",
   "execution_count": null,
   "metadata": {
    "ExecuteTime": {
     "end_time": "2017-08-21T09:48:20.956176Z",
     "start_time": "2017-08-21T09:48:20.402506Z"
    },
    "collapsed": true,
    "deletable": false,
    "nbgrader": {
     "checksum": "c4251c7bf794172d0c8feea6928afe7a",
     "grade": true,
     "grade_id": "cell-a90ad4cf22386e69",
     "locked": false,
     "points": 5,
     "schema_version": 1,
     "solution": true
    }
   },
   "outputs": [],
   "source": [
    "# YOUR CODE HERE\n",
    "raise NotImplementedError()"
   ]
  },
  {
   "cell_type": "markdown",
   "metadata": {},
   "source": [
    "#### Question 2.b [5]\n",
    "The use of the color map is completely arbitrary. Take the BRICS marked plot and map the Region of the \n",
    "data point as the colour for each bubble. "
   ]
  },
  {
   "cell_type": "code",
   "execution_count": null,
   "metadata": {
    "ExecuteTime": {
     "end_time": "2017-08-21T09:48:26.747581Z",
     "start_time": "2017-08-21T09:48:26.050616Z"
    },
    "collapsed": true,
    "deletable": false,
    "nbgrader": {
     "checksum": "f32db5d94b9d57358aca6e199988488e",
     "grade": true,
     "grade_id": "cell-5232c6bbd2483c9c",
     "locked": false,
     "points": 5,
     "schema_version": 1,
     "solution": true
    }
   },
   "outputs": [],
   "source": [
    "# YOUR CODE HERE\n",
    "raise NotImplementedError()"
   ]
  },
  {
   "cell_type": "markdown",
   "metadata": {
    "deletable": false,
    "editable": false,
    "nbgrader": {
     "checksum": "9e645fbee7a901b0da639d4a5311576b",
     "grade": false,
     "grade_id": "cell-47a067090cd6f1a8",
     "locked": true,
     "schema_version": 1,
     "solution": false
    }
   },
   "source": [
    "### Question 3\n",
    "Through some web scarping and cut and pasting we have been able to acquire some \n",
    "data for the PSL $2016/2017$. The data resides in the file ```'psl_player_stats.csv'```.\n",
    "1. If you dont have the file download it from Sakai\n",
    "1. Place the file in the same folder as this Jupyter Notebook."
   ]
  },
  {
   "cell_type": "code",
   "execution_count": null,
   "metadata": {
    "ExecuteTime": {
     "end_time": "2017-08-21T09:48:36.954196Z",
     "start_time": "2017-08-21T09:48:36.888391Z"
    },
    "collapsed": true,
    "deletable": false,
    "editable": false,
    "nbgrader": {
     "checksum": "56ad60f1333d4c8e6d7e78b6af153670",
     "grade": false,
     "grade_id": "cell-ce335ceeccf0ae9d",
     "locked": true,
     "schema_version": 1,
     "solution": false
    }
   },
   "outputs": [],
   "source": [
    "df_tmp = pd.read_csv('psl_player_stats.csv')\n",
    "df_goals = df_tmp[df_tmp.columns[0:5]].drop_duplicates()\n",
    "df_goals.set_index('Player_Goals', inplace=True)\n",
    "df_cards = df_tmp[df_tmp.columns[6:11]].drop_duplicates()\n",
    "df_cards.set_index('Player_Cards', inplace=True)\n",
    "df_assists = df_tmp[df_tmp.columns[12:]].drop_duplicates()\n",
    "df_assists.set_index('Player_Assists', inplace=True)\n",
    "df_psl = df_goals.join(df_assists).dropna().join(df_cards)[[\n",
    "            'Goals', 'Penalty', 'First Goal','Appearances', \n",
    "            'Assists', 'Yellow card', 'Red card','Pts']].fillna(0)\n",
    "#df_psl = (df_psl_tmp.T / df_psl_tmp.Appearances).T[[\n",
    "#            'Goals', 'Penalty', 'First Goal', \n",
    "#            'Assists', 'Yellow card', 'Red card','Pts']]"
   ]
  },
  {
   "cell_type": "code",
   "execution_count": null,
   "metadata": {
    "ExecuteTime": {
     "end_time": "2017-08-21T09:48:38.181479Z",
     "start_time": "2017-08-21T09:48:38.154158Z"
    },
    "collapsed": true,
    "deletable": false,
    "editable": false,
    "nbgrader": {
     "checksum": "d45baec58e6037bb92f9d1542f95c1fb",
     "grade": false,
     "grade_id": "cell-590652b9c0c40a8a",
     "locked": true,
     "schema_version": 1,
     "solution": false
    }
   },
   "outputs": [],
   "source": [
    "df_psl.head()"
   ]
  },
  {
   "cell_type": "markdown",
   "metadata": {
    "ExecuteTime": {
     "end_time": "2017-08-15T09:09:39.714283Z",
     "start_time": "2017-08-15T09:09:39.655721Z"
    },
    "deletable": false,
    "editable": false,
    "nbgrader": {
     "checksum": "36f4ad702c4961e3fec52fc76eed5564",
     "grade": false,
     "grade_id": "cell-4176c85adaf140cc",
     "locked": true,
     "schema_version": 1,
     "solution": false
    }
   },
   "source": [
    "#### Question 3.a [5]\n",
    "Produce a heatmap similar to the one found in [Multivaraiate Data Visualizations, slide$-16$]. \n",
    "The one in the slides is for basketball. The field ```Pts``` in our data is a points\n",
    "calculation that gives $1$ point for a Yellow Cards and $2$ points for a Red Card.\n",
    "* Note: I would suggest you use Seaborn  for this task"
   ]
  },
  {
   "cell_type": "code",
   "execution_count": null,
   "metadata": {
    "ExecuteTime": {
     "end_time": "2017-08-21T09:48:41.830842Z",
     "start_time": "2017-08-21T09:48:40.809967Z"
    },
    "collapsed": true,
    "deletable": false,
    "nbgrader": {
     "checksum": "6a91746188ac8622900f07ab87fc8c61",
     "grade": true,
     "grade_id": "cell-db1d5d3d76338a0b",
     "locked": false,
     "points": 5,
     "schema_version": 1,
     "solution": true
    }
   },
   "outputs": [],
   "source": [
    "# YOUR CODE HERE\n",
    "raise NotImplementedError()"
   ]
  },
  {
   "cell_type": "markdown",
   "metadata": {},
   "source": [
    "#### Question 3.b [5]\n",
    "Another way to visualize the PSL data would be to use a parallel coordinates plot. Produce the plot below."
   ]
  },
  {
   "cell_type": "code",
   "execution_count": null,
   "metadata": {
    "ExecuteTime": {
     "end_time": "2017-08-21T09:48:45.318540Z",
     "start_time": "2017-08-21T09:48:44.960493Z"
    },
    "collapsed": true,
    "deletable": false,
    "nbgrader": {
     "checksum": "a1d9e4ae90ff514ad7d1a024f0b7b0b8",
     "grade": true,
     "grade_id": "cell-6243f118bea79348",
     "locked": false,
     "points": 5,
     "schema_version": 1,
     "solution": true
    }
   },
   "outputs": [],
   "source": [
    "# YOUR CODE HERE\n",
    "raise NotImplementedError()"
   ]
  },
  {
   "cell_type": "markdown",
   "metadata": {
    "deletable": false,
    "editable": false,
    "nbgrader": {
     "checksum": "bac69b670711c9a66c46e853d6cb1e2a",
     "grade": false,
     "grade_id": "cell-9f0ff95e0a2cd56d",
     "locked": true,
     "schema_version": 1,
     "solution": false
    }
   },
   "source": [
    "### Question 4\n",
    "We now have taken the entire crime data set for $2014/2015$. The data file is:\n",
    "```\n",
    "'vocs2014!2015.csv'\n",
    "```\n",
    "You can see the table of data below. Once again we have standardized the data for population size."
   ]
  },
  {
   "cell_type": "code",
   "execution_count": null,
   "metadata": {
    "ExecuteTime": {
     "end_time": "2017-08-21T09:48:47.426225Z",
     "start_time": "2017-08-21T09:48:47.267320Z"
    },
    "collapsed": true,
    "deletable": false,
    "editable": false,
    "nbgrader": {
     "checksum": "8cdbf94aae39938addb10a88a995a4ea",
     "grade": false,
     "grade_id": "cell-52d8228bcd9c30ce",
     "locked": true,
     "schema_version": 1,
     "solution": false
    }
   },
   "outputs": [],
   "source": [
    "df_crime = pd.read_csv('vocs2014!2015.csv')\n",
    "df_crime['Province'] = df_crime.PROV.map({1:'Western Cape',\n",
    "                                          2:'Eastern Cape',\n",
    "                                          3:'Northern Cape',\n",
    "                                          4:'Free State',\n",
    "                                          5:'KwaZulu-Natal',\n",
    "                                          6:'North West',\n",
    "                                          7:'Gauteng',\n",
    "                                          8:'Mpumalanga',\n",
    "                                          9:'Limpopo'})\n",
    "df_crime['Population'] = 1\n",
    "df_crime = df_crime[['Q10aCar', 'Q10cHomeRob', 'Q10dLiveStck',\n",
    "       'Q10ecrops', 'Q10fMurder', 'Q10hDamageDU',\n",
    "       'Q10iDamageVeh', 'Population',\n",
    "       'Province']].groupby('Province').sum()\n",
    "df_pop = df_crime.Population.copy()\n",
    "df_crime = df_crime.div(df_crime['Population'], axis='index')\n",
    "df_crime['Population'] = df_pop\n",
    "df_crime"
   ]
  },
  {
   "cell_type": "markdown",
   "metadata": {
    "deletable": false,
    "editable": false,
    "nbgrader": {
     "checksum": "25dd2500417a8bef3331d80e81ba23d5",
     "grade": false,
     "grade_id": "cell-c6fee7df94148240",
     "locked": true,
     "schema_version": 1,
     "solution": false
    }
   },
   "source": [
    "#### Question 4.a [5]\n",
    "You should produce the best possible scatter matrix for this data. "
   ]
  },
  {
   "cell_type": "code",
   "execution_count": null,
   "metadata": {
    "ExecuteTime": {
     "end_time": "2017-08-21T09:49:09.821575Z",
     "start_time": "2017-08-21T09:48:49.304367Z"
    },
    "collapsed": true,
    "deletable": false,
    "nbgrader": {
     "checksum": "62da71b811caa1b24de52d22a822d33d",
     "grade": true,
     "grade_id": "cell-a473c30fd1c0f1ca",
     "locked": false,
     "points": 5,
     "schema_version": 1,
     "solution": true
    }
   },
   "outputs": [],
   "source": [
    "# YOUR CODE HERE\n",
    "raise NotImplementedError()"
   ]
  }
 ],
 "metadata": {
  "hide_input": false,
  "kernelspec": {
   "display_name": "Python 3",
   "language": "python",
   "name": "python3"
  },
  "language_info": {
   "codemirror_mode": {
    "name": "ipython",
    "version": 3
   },
   "file_extension": ".py",
   "mimetype": "text/x-python",
   "name": "python",
   "nbconvert_exporter": "python",
   "pygments_lexer": "ipython3",
   "version": "3.5.3"
  },
  "latex_envs": {
   "LaTeX_envs_menu_present": true,
   "autoclose": false,
   "autocomplete": true,
   "bibliofile": "biblio.bib",
   "cite_by": "apalike",
   "current_citInitial": 1,
   "eqLabelWithNumbers": true,
   "eqNumInitial": 1,
   "hotkeys": {
    "equation": "Ctrl-E",
    "itemize": "Ctrl-I"
   },
   "labels_anchors": false,
   "latex_user_defs": false,
   "report_style_numbering": false,
   "user_envs_cfg": false
  },
  "toc": {
   "colors": {
    "hover_highlight": "#DAA520",
    "navigate_num": "#000000",
    "navigate_text": "#333333",
    "running_highlight": "#FF0000",
    "selected_highlight": "#FFD700",
    "sidebar_border": "#EEEEEE",
    "wrapper_background": "#FFFFFF"
   },
   "moveMenuLeft": true,
   "nav_menu": {
    "height": "212px",
    "width": "252px"
   },
   "navigate_menu": true,
   "number_sections": true,
   "sideBar": true,
   "threshold": 4,
   "toc_cell": false,
   "toc_section_display": "block",
   "toc_window_display": false,
   "widenNotebook": false
  }
 },
 "nbformat": 4,
 "nbformat_minor": 2
}
