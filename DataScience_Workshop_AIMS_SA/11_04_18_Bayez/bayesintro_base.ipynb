{
 "cells": [
  {
   "cell_type": "code",
   "execution_count": 1,
   "metadata": {
    "collapsed": true
   },
   "outputs": [],
   "source": [
    "# numpy: numerical library\n",
    "from math import *\n",
    "from numpy import *\n",
    "from scipy import *\n",
    "import numpy.random as nprandom\n",
    "# pylab: matplotlib's matlab-like interface\n",
    "\n",
    "from pylab import *\n",
    "\n",
    "# Works nicely with python2.5 and beyond."
   ]
  },
  {
   "cell_type": "code",
   "execution_count": 2,
   "metadata": {
    "collapsed": true
   },
   "outputs": [],
   "source": [
    "# The data we will fit:\n",
    "#  x, y, sigma_y\n",
    "data1 = array([[201,592,61],[244,401,25],[47,583,38],[287,402,15],[203,495,21],\n",
    "\t\t\t   [58,173,15],[210,479,27],[202,504,14],[198,510,30],[158,416,16],\n",
    "\t\t\t   [165,393,14],[201,442,25],[157,317,52],[131,311,16],[166,400,34],\n",
    "\t\t\t   [160,337,31],[186,423,42],[125,334,26],[218,533,16],[146,344,22]])\n",
    "\n",
    "# plotting limits\n",
    "xlimits = [0,250]\n",
    "ylimits = [100,600]\n",
    "title_prefix = 'Problem set 1'\n",
    "plot_format = '.png'"
   ]
  },
  {
   "cell_type": "code",
   "execution_count": 3,
   "metadata": {
    "collapsed": true
   },
   "outputs": [],
   "source": [
    "def get_data_no_outliers():\n",
    "\t# pull out the x, y, and sigma_y columns, which have been packed into the\n",
    "\t# \"data1\" matrix.  \"data1\" has shape (20,3).  \":\" means \"everything in\n",
    "\t# that dimension\".  Some of the first 5 points are outliers so for this\n",
    "\t# part we only grab from index 5 on, with magic \"5:\"\n",
    "\tx = data1[5:,0]\n",
    "\ty = data1[5:,1]\n",
    "\tsigmay = data1[5:,2]\n",
    "\treturn (x, y, sigmay)\n",
    "\n",
    "# INCLUDING THE OUTLIERS WILL HELP TO BETTER GRASP DIFFERENCE BETWEEN PROCEDURES/RECIPES AND GENUINE OPTIMIZATION\n",
    "# ALSO WILL SHOW HOW TYPICALLY WE OVERCOME TROUBLE IN MODELLING WHEN WORKING EITHER IN FREQUENTIST OR IN BAYESIAN FRAMEWORK"
   ]
  },
  {
   "cell_type": "code",
   "execution_count": 4,
   "metadata": {
    "collapsed": true
   },
   "outputs": [],
   "source": [
    "# Plot data with error bars, standard axis limits, etc.\n",
    "def plot_yerr(x, y, sigmay):\n",
    "\t# plot data with error bars\n",
    "\terrorbar(x, y, yerr=sigmay, fmt='.', ms=7, lw=1, color='k')\n",
    "\t# if you put '$' in you can make Latex labels\n",
    "\txlabel('$x$')\n",
    "\tylabel('$y$')\n",
    "\txlim(*xlimits)\n",
    "\tylim(*ylimits)\n",
    "\ttitle(title_prefix)"
   ]
  },
  {
   "cell_type": "code",
   "execution_count": 5,
   "metadata": {
    "collapsed": true
   },
   "outputs": [],
   "source": [
    "# Plot a   y = mx + b  line.\n",
    "def plot_line(b, m):\n",
    "\tx = array(xlimits)\n",
    "\ty = b + m*x\n",
    "\tplot(x, y, 'k-', alpha=0.5)\n",
    "\txlim(*xlimits)\n",
    "\tylim(*ylimits)"
   ]
  },
  {
   "cell_type": "code",
   "execution_count": 6,
   "metadata": {
    "collapsed": false
   },
   "outputs": [],
   "source": [
    "# Function containing code for Problem 1.\n",
    "def problem1():\n",
    "    (x, y, sigmay) = get_data_no_outliers()\n",
    "    # clear the figure\n",
    "    clf()    \n",
    "    # plot the data points...\n",
    "    plot_yerr(x, y, sigmay)\n",
    "    # save just the data points plot.\n",
    "    savefig('p1-data' + plot_format)\n",
    "    # find the weighted least-squares solution (using the error bars).\n",
    "    #(m, b, param_err_mat) = problem1_wls(x, y, sigmay)\n",
    "    (m, b) = problem1_wls(x, y, sigmay)\n",
    "    # clear the figure\n",
    "    clf()\n",
    "    # re-plot the data points\n",
    "    plot_yerr(x, y, sigmay)\n",
    "    # plot the straight line that best fits the dataset\n",
    "    #plot_line(m, b)\n",
    "    show()\n",
    "    plot_yerr(x, y, sigmay)\n",
    "    plot_line(b, m)\t\n",
    "    title(title_prefix + ': Weighted Least Squares')\n",
    "    savefig('p1-wls' + plot_format)\n",
    "    show()\n",
    "    "
   ]
  },
  {
   "cell_type": "code",
   "execution_count": null,
   "metadata": {
    "collapsed": false
   },
   "outputs": [],
   "source": []
  },
  {
   "cell_type": "code",
   "execution_count": 7,
   "metadata": {
    "collapsed": true
   },
   "outputs": [],
   "source": [
    "# Weighted least squares method: A reformulation of Frequentist Optimization (Maximization of Likelihood)\n",
    "# Returns best-fit (m, b)\n",
    "def problem1_wls(x, y, sigmay):\n",
    "    print('WLS')\n",
    "    # Weighted least squares.\n",
    "    N = len(x)\n",
    "    # build the inverse covariance matrix\n",
    "    Cinv = diag(1./sigmay**2)\n",
    "    # build the \"X\" matrix\n",
    "    X = zeros((N,2))\n",
    "    # Building the design matrix A for a trivial linear least squares scheme as in numerical recipes\n",
    "    X[:,0] = x # 1.\n",
    "    X[:,1] = 1. # x\n",
    "    print('X shape:'), X.shape\n",
    "    # hint: what do you think XT*Cinv*X = AT*Cinv*A = \\alpha = inverse of covariance matrix of parameters has to do with the uncertainties on (m,b)?\n",
    "    XTCinvX = dot(dot(X.T, Cinv), X)\n",
    "    print('XTCinvX shape:', XTCinvX.shape)\n",
    "    XTCinvy = dot(dot(X.T, Cinv), y)\n",
    "    print('XTCinvy shape:', XTCinvy.shape)\n",
    "    beta = dot(inv(XTCinvX), XTCinvy)\n",
    "    print('beta', beta)\n",
    "    print\n",
    "    (m, b) = beta\n",
    "    #err_matrix= inv(transpose(XTCinvX))\n",
    "    #err_matrix2= inv(XTCinvX)\n",
    "    #print('err_matrix1,2', err_matrix, err_matrix2)\n",
    "    return (m, b)\n",
    "    #return (m, b,err_matrix)\n"
   ]
  },
  {
   "cell_type": "code",
   "execution_count": null,
   "metadata": {
    "collapsed": false
   },
   "outputs": [],
   "source": []
  },
  {
   "cell_type": "code",
   "execution_count": 8,
   "metadata": {
    "collapsed": true
   },
   "outputs": [],
   "source": [
    "#def straight_line_gaussian_likelihood(x, y, sigmay, m, b):\n",
    "# This you will have to write yourself for our basic MCMC for fitting a straight line.\n",
    "# This is where you compute the likelihood FIRST\n"
   ]
  },
  {
   "cell_type": "code",
   "execution_count": 9,
   "metadata": {
    "collapsed": true
   },
   "outputs": [],
   "source": [
    "#def problem2():\n",
    "#Your Metrpolis-Hastings algorithm here.\n",
    "#It should call straight_line_gaussian_likelihood(x, y, sigmay, m, b)\n",
    "\n"
   ]
  },
  {
   "cell_type": "code",
   "execution_count": 10,
   "metadata": {
    "collapsed": false
   },
   "outputs": [
    {
     "name": "stdout",
     "output_type": "stream",
     "text": [
      "WLS\n",
      "X shape:\n",
      "XTCinvX shape: (2, 2)\n",
      "XTCinvy shape: (2,)\n",
      "beta [ 2.23253622 34.84594131]\n"
     ]
    },
    {
     "data": {
      "image/png": "[encoded data removed]",
      "text/plain": [
       "<matplotlib.figure.Figure at 0x7fe6a414e668>"
      ]
     },
     "metadata": {},
     "output_type": "display_data"
    },
    {
     "data": {
      "image/png": "[encoded data removed]",
      "text/plain": [
       "<matplotlib.figure.Figure at 0x7fe6a20f3940>"
      ]
     },
     "metadata": {},
     "output_type": "display_data"
    }
   ],
   "source": [
    "# This block executes when you run \"python wrapper.py\" in command line from terminal.\n",
    "if __name__ == '__main__':\n",
    "\tproblem1() # Check that this works\n",
    "\t# uncomment this when you are ready to do problem 2.\n",
    "    #problem2()"
   ]
  },
  {
   "cell_type": "code",
   "execution_count": null,
   "metadata": {
    "collapsed": false
   },
   "outputs": [],
   "source": [
    "\n"
   ]
  },
  {
   "cell_type": "code",
   "execution_count": null,
   "metadata": {
    "collapsed": true
   },
   "outputs": [],
   "source": []
  },
  {
   "cell_type": "code",
   "execution_count": null,
   "metadata": {
    "collapsed": true
   },
   "outputs": [],
   "source": []
  }
 ],
 "metadata": {
  "kernelspec": {
   "display_name": "Python 3",
   "language": "python",
   "name": "python3"
  },
  "language_info": {
   "codemirror_mode": {
    "name": "ipython",
    "version": 3
   },
   "file_extension": ".py",
   "mimetype": "text/x-python",
   "name": "python",
   "nbconvert_exporter": "python",
   "pygments_lexer": "ipython3",
   "version": "3.5.3"
  }
 },
 "nbformat": 4,
 "nbformat_minor": 2
}
