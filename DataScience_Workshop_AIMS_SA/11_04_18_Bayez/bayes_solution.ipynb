{
 "cells": [
  {
   "cell_type": "code",
   "execution_count": 1,
   "metadata": {
    "collapsed": true
   },
   "outputs": [],
   "source": [
    "# numpy: numerical library\n",
    "from math import *\n",
    "from numpy import *\n",
    "from scipy import *\n",
    "import numpy.random as nprandom\n",
    "# pylab: matplotlib's matlab-like interface\n",
    "\n",
    "from pylab import *\n",
    "\n",
    "# Works nicely with python2.5 and beyond."
   ]
  },
  {
   "cell_type": "code",
   "execution_count": 2,
   "metadata": {
    "collapsed": true
   },
   "outputs": [],
   "source": [
    "# The data we will fit:\n",
    "#  x, y, sigma_y\n",
    "data1 = array([[201,592,61],[244,401,25],[47,583,38],[287,402,15],[203,495,21],\n",
    "\t\t\t   [58,173,15],[210,479,27],[202,504,14],[198,510,30],[158,416,16],\n",
    "\t\t\t   [165,393,14],[201,442,25],[157,317,52],[131,311,16],[166,400,34],\n",
    "\t\t\t   [160,337,31],[186,423,42],[125,334,26],[218,533,16],[146,344,22]])\n",
    "\n",
    "# plotting limits\n",
    "xlimits = [0,250]\n",
    "ylimits = [100,600]\n",
    "title_prefix = 'Problem set 1'\n",
    "plot_format = '.png'"
   ]
  },
  {
   "cell_type": "code",
   "execution_count": 3,
   "metadata": {
    "collapsed": true
   },
   "outputs": [],
   "source": [
    "def get_data_no_outliers():\n",
    "\t# pull out the x, y, and sigma_y columns, which have been packed into the\n",
    "\t# \"data1\" matrix.  \"data1\" has shape (20,3).  \":\" means \"everything in\n",
    "\t# that dimension\".  Some of the first 5 points are outliers so for this\n",
    "\t# part we only grab from index 5 on, with magic \"5:\"\n",
    "\tx = data1[5:,0]\n",
    "\ty = data1[5:,1]\n",
    "\tsigmay = data1[5:,2]\n",
    "\treturn (x, y, sigmay)\n",
    "\n",
    "# INCLUDING THE OUTLIERS WILL HELP TO BETTER GRASP DIFFERENCE BETWEEN PROCEDURES/RECIPES AND GENUINE OPTIMIZATION\n",
    "# ALSO WILL SHOW HOW TYPICALLY WE OVERCOME TROUBLE IN MODELLING WHEN WORKING EITHER IN FREQUENTIST OR IN BAYESIAN FRAMEWORK"
   ]
  },
  {
   "cell_type": "code",
   "execution_count": 4,
   "metadata": {
    "collapsed": true
   },
   "outputs": [],
   "source": [
    "# Plot data with error bars, standard axis limits, etc.\n",
    "def plot_yerr(x, y, sigmay):\n",
    "\t# plot data with error bars\n",
    "\terrorbar(x, y, yerr=sigmay, fmt='.', ms=7, lw=1, color='k')\n",
    "\t# if you put '$' in you can make Latex labels\n",
    "\txlabel('$x$')\n",
    "\tylabel('$y$')\n",
    "\txlim(*xlimits)\n",
    "\tylim(*ylimits)\n",
    "\ttitle(title_prefix)"
   ]
  },
  {
   "cell_type": "code",
   "execution_count": 5,
   "metadata": {
    "collapsed": true
   },
   "outputs": [],
   "source": [
    "# Plot a   y = mx + b  line.\n",
    "def plot_line(b, m):\n",
    "\tx = array(xlimits)\n",
    "\ty = b + m*x\n",
    "\tplot(x, y, 'k-', alpha=0.5)\n",
    "\txlim(*xlimits)\n",
    "\tylim(*ylimits)"
   ]
  },
  {
   "cell_type": "code",
   "execution_count": 6,
   "metadata": {
    "collapsed": false
   },
   "outputs": [],
   "source": [
    "# Function containing code for Problem 1.\n",
    "def problem1():\n",
    "    (x, y, sigmay) = get_data_no_outliers()\n",
    "    # clear the figure\n",
    "    clf()    \n",
    "    # plot the data points...\n",
    "    plot_yerr(x, y, sigmay)\n",
    "    # save just the data points plot.\n",
    "    savefig('p1-data' + plot_format)\n",
    "    # find the weighted least-squares solution (using the error bars).\n",
    "    #(m, b, param_err_mat) = problem1_wls(x, y, sigmay)\n",
    "    (m, b) = problem1_wls(x, y, sigmay)\n",
    "    # clear the figure\n",
    "    clf()\n",
    "    # re-plot the data points\n",
    "    plot_yerr(x, y, sigmay)\n",
    "    # plot the straight line that best fits the dataset\n",
    "    #plot_line(m, b)\n",
    "    show()\n",
    "    plot_yerr(x, y, sigmay)\n",
    "    plot_line(b, m)\t\n",
    "    title(title_prefix + ': Weighted Least Squares')\n",
    "    savefig('p1-wls' + plot_format)\n",
    "    show()\n",
    "    "
   ]
  },
  {
   "cell_type": "code",
   "execution_count": null,
   "metadata": {
    "collapsed": false
   },
   "outputs": [],
   "source": []
  },
  {
   "cell_type": "code",
   "execution_count": 7,
   "metadata": {
    "collapsed": true
   },
   "outputs": [],
   "source": [
    "# Weighted least squares method.  Returns best-fit (m, b)\n",
    "def problem1_wls(x, y, sigmay):\n",
    "    print('WLS')\n",
    "    # Weighted least squares.\n",
    "    N = len(x)\n",
    "    # build the inverse covariance matrix\n",
    "    Cinv = diag(1./sigmay**2)\n",
    "    # build the \"X\" matrix\n",
    "    X = zeros((N,2))\n",
    "    # Building the design matrix A for a trivial linear least squares scheme as in numerical recipes\n",
    "    X[:,0] = x # 1.\n",
    "    X[:,1] = 1. # x\n",
    "    print('X shape:'), X.shape\n",
    "    # hint: what do you think XT*Cinv*X = AT*Cinv*A = \\alpha = inverse of covariance matrix of parameters has to do with the uncertainties on (m,b)?\n",
    "    XTCinvX = dot(dot(X.T, Cinv), X)\n",
    "    print('XTCinvX shape:', XTCinvX.shape)\n",
    "    XTCinvy = dot(dot(X.T, Cinv), y)\n",
    "    print('XTCinvy shape:', XTCinvy.shape)\n",
    "    beta = dot(inv(XTCinvX), XTCinvy)\n",
    "    print('beta', beta)\n",
    "    print\n",
    "    (m, b) = beta\n",
    "    #err_matrix= inv(transpose(XTCinvX))\n",
    "    #err_matrix2= inv(XTCinvX)\n",
    "    #print('err_matrix1,2', err_matrix, err_matrix2)\n",
    "    return (m, b)\n",
    "    #return (m, b,err_matrix)\n"
   ]
  },
  {
   "cell_type": "code",
   "execution_count": null,
   "metadata": {
    "collapsed": false
   },
   "outputs": [],
   "source": []
  },
  {
   "cell_type": "code",
   "execution_count": 8,
   "metadata": {
    "collapsed": false
   },
   "outputs": [],
   "source": [
    "def straight_line_gaussian_likelihood(x, y, sigmay, m, b):\n",
    "# This you will have to write yourself for our basic MCMC for fitting a straight line.\n",
    "# This is where you compute the likelihood FIRST\n",
    "\n",
    "    # do stuff\n",
    "\n",
    "    pi = 3.14\n",
    "    mu = m*x + b\n",
    "\n",
    "    c = 1/((sqrt(2*pi))*sigmay)\n",
    "    #print c ; c is for the normalisation of the pdf\n",
    "\n",
    "    argument = -0.5*( (y - mu)/(sigmay) )**2\n",
    "    #print argument\n",
    "\n",
    "    d = c*exp(argument)\n",
    "    e = exp(0)\n",
    "    #print e\n",
    "\n",
    "    dd = prod(d)\n",
    "\n",
    "    return dd"
   ]
  },
  {
   "cell_type": "code",
   "execution_count": null,
   "metadata": {
    "collapsed": true
   },
   "outputs": [],
   "source": []
  },
  {
   "cell_type": "code",
   "execution_count": 9,
   "metadata": {
    "collapsed": false
   },
   "outputs": [],
   "source": [
    "def testing():\n",
    "    (x, y, sigmay) = get_data_no_outliers()\n",
    "    (m,b) = (2.2,30)\n",
    "    #(m,b) = (32,2.2)\n",
    "\n",
    "    print ('Likelihood at', (m,b), 'is', straight_line_gaussian_likelihood(x, y, sigmay, m, b))\n"
   ]
  },
  {
   "cell_type": "code",
   "execution_count": 16,
   "metadata": {
    "collapsed": false
   },
   "outputs": [],
   "source": [
    "def problem2():\n",
    "#Your Metrpolis-Hastings algorithm here.\n",
    "#It should call straight_line_gaussian_likelihood(x, y, sigmay, m, b)\n",
    "\n",
    "# PLEASE THIS A BACK OF THE ENVELOPPE SOLUTION. CAN BE OPTIMISED. DO IT!\n",
    "\n",
    "    (x, y, sigmay) = get_data_no_outliers()\n",
    "    (mo,bo) = (2.2,30)\n",
    "    #(m,b) = (32,2.2)\n",
    "    Lo = straight_line_gaussian_likelihood(x, y, sigmay, mo, bo)\n",
    "    #print Lo\n",
    "    sigma_m = 0.04\n",
    "    sigma_b = 4\n",
    "\n",
    "    delta_m = 0  + sigma_m*nprandom.normal() \n",
    "    delta_b = 0  + sigma_b*nprandom.normal() \n",
    "\n",
    "    #print delta_m\n",
    "    #print delta_b\n",
    "\n",
    "    N = 10000 # Number of steps: Paly with this.\n",
    "    #u[2:0] = (mo,bo)\n",
    "    U = zeros((N,3))\n",
    "    delta = zeros((1,2))\n",
    "    L = zeros((N,1))\n",
    "    previous = zeros((1,2))\n",
    "    candidate = zeros((1,2))\n",
    "\n",
    "    U[0,0] = mo\n",
    "    U[0,1] = bo\n",
    "    U[0,2] = Lo\n",
    "\n",
    "    #print U\n",
    "\n",
    "    ctrl = 0\n",
    "    for i in range(N-1):\n",
    "\n",
    "            delta_m = 0  + sigma_m*nprandom.normal() \n",
    "            delta_b = 0  + sigma_b*nprandom.normal() \n",
    "\n",
    "            delta[0,0] = delta_m\n",
    "            delta[0,1] = delta_b\n",
    "\n",
    "        #    print delta\n",
    "\n",
    "            previous[0,0] = U[i,0]\n",
    "            previous[0,1] = U[i,1]\n",
    "\n",
    "            L = U[i,2]\n",
    "\n",
    "            candidate = previous + delta\n",
    "\n",
    "        #    print i\n",
    "\n",
    "            m = candidate[0,0]\n",
    "            b = candidate[0,1]\n",
    "\n",
    "            U[i+1,2] = straight_line_gaussian_likelihood(x, y, sigmay, m, b)\n",
    "\n",
    "            R = U[i+1,2]/U[i,2]\n",
    "\n",
    "        #    print previous\n",
    "        #    print candidate\n",
    "        #    print candidate\n",
    "        #    print R\n",
    "        #    print delta\n",
    "\n",
    "            if R >= 1:\n",
    "                  # take step\n",
    "                U[i+1,0] = candidate[0,0]\n",
    "                U[i+1,1] = candidate[0,1]\n",
    "                U[i+1,2] = U[i+1,2]\n",
    "                ctrl = ctrl + 1\n",
    "            else:\n",
    "                urand = nprandom.uniform()\n",
    "                if R >= urand:\n",
    "                # take step\n",
    "                    U[i+1,0] = candidate[0,0]\n",
    "                    U[i+1,1] = candidate[0,1]\n",
    "                    U[i+1,2] = U[i+1,2]\n",
    "                    ctrl = ctrl + 1\n",
    "                else:\n",
    "                # reject = stay there\n",
    "                    U[i+1,0] = previous[0,0]\n",
    "                    U[i+1,1] = previous[0,1]\n",
    "                    U[i+1,2] = U[i,2]\n",
    "    #print U\n",
    "    param1 = U[:,0]\n",
    "    param2 = U[:,1]\n",
    "    #plot_line(m, b)\n",
    "    clf()\n",
    "    mm = hist(param1,50)\n",
    "    m_est = mean(param1)\n",
    "    m_err = sqrt(var(param1))\n",
    "    savefig('mcmc-mhist.png')\n",
    "    show()\n",
    "    #print m_est, m_err\n",
    "    print('m_est, m_err:', m_est, m_err)\n",
    "    clf()\n",
    "    hist(param2,50)\n",
    "    #bb = hist(param2,50)\n",
    "    b_est = mean(param2)\n",
    "    b_err = sqrt(var(param2))\n",
    "    savefig('mcmc-bhist.png')\n",
    "    show()\n",
    "    #print b_est, b_err\n",
    "    print('b_est, b_err:', b_est, b_err)\n",
    "    clf()\n",
    "    plot_yerr(x,y,sigmay)\n",
    "    title(title_prefix + ': Data for MCMC minimization')\n",
    "    savefig('p1-data' + plot_format)\n",
    "    # plot the straight line that best fits the dataset\n",
    "    show()\n",
    "    plot_yerr(x,y,sigmay)    \n",
    "    plot_line(b_est, m_est)\n",
    "    title(title_prefix + ': MCMC minimization')\n",
    "    savefig('p1-mcmcc' + plot_format)\n",
    "    plot_line(b_est, m_est)\n",
    "    # re-plot the data points\n",
    "    plot_yerr(x, y, sigmay)\n",
    "    title(title_prefix + ': MCMC minimization')\n",
    "    # plot the straight line that best fits the dataset\n",
    "    #plot_line(m, b)\n",
    "    show()\n",
    "    #plot_yerr(x, y, sigmay)\n",
    "\n",
    "    #plt.plot(x,y)\n",
    "    #savefig('XY-test.png')\n",
    "    clf()\n",
    "    title(title_prefix + ': Scatter plot: ')\n",
    "    scatter(param1, param2)\n",
    "    savefig('scatter.png')\n",
    "    #clf()\n",
    "    show()\n",
    "    #\n",
    "    #print ctrl\n",
    "    print('ctrl', ctrl)\n",
    "    return U"
   ]
  },
  {
   "cell_type": "code",
   "execution_count": 17,
   "metadata": {
    "collapsed": false
   },
   "outputs": [
    {
     "data": {
      "image/png": "[encoded data removed]",
      "text/plain": [
       "<matplotlib.figure.Figure at 0x7fa7c2c261d0>"
      ]
     },
     "metadata": {},
     "output_type": "display_data"
    },
    {
     "name": "stdout",
     "output_type": "stream",
     "text": [
      "m_est, m_err: 2.2460973463015597 0.11352479217809788\n"
     ]
    },
    {
     "data": {
      "image/png": "[encoded data removed]",
      "text/plain": [
       "<matplotlib.figure.Figure at 0x7fa7c2dfadd8>"
      ]
     },
     "metadata": {},
     "output_type": "display_data"
    },
    {
     "name": "stdout",
     "output_type": "stream",
     "text": [
      "b_est, b_err: 32.547798912126055 18.9111394121717\n"
     ]
    },
    {
     "data": {
      "image/png": "[encoded data removed]",
      "text/plain": [
       "<matplotlib.figure.Figure at 0x7fa7c2bd9630>"
      ]
     },
     "metadata": {},
     "output_type": "display_data"
    },
    {
     "data": {
      "image/png": "[encoded data removed]",
      "text/plain": [
       "<matplotlib.figure.Figure at 0x7fa7c29ffcf8>"
      ]
     },
     "metadata": {},
     "output_type": "display_data"
    },
    {
     "data": {
      "image/png": "[encoded data removed]",
      "text/plain": [
       "<matplotlib.figure.Figure at 0x7fa7c2c60940>"
      ]
     },
     "metadata": {},
     "output_type": "display_data"
    },
    {
     "name": "stdout",
     "output_type": "stream",
     "text": [
      "ctrl 5862\n"
     ]
    }
   ],
   "source": [
    "# This block executes when you run \"python wrapper.py\".\n",
    "if __name__ == '__main__':\n",
    "\t#problem1() # Check that this works\n",
    "\t#uncomment this when you are ready to do problem 2.\n",
    "    problem2()"
   ]
  },
  {
   "cell_type": "code",
   "execution_count": null,
   "metadata": {
    "collapsed": false
   },
   "outputs": [],
   "source": [
    "\n"
   ]
  },
  {
   "cell_type": "code",
   "execution_count": null,
   "metadata": {
    "collapsed": true
   },
   "outputs": [],
   "source": []
  },
  {
   "cell_type": "code",
   "execution_count": null,
   "metadata": {
    "collapsed": true
   },
   "outputs": [],
   "source": []
  }
 ],
 "metadata": {
  "kernelspec": {
   "display_name": "Python 3",
   "language": "python",
   "name": "python3"
  },
  "language_info": {
   "codemirror_mode": {
    "name": "ipython",
    "version": 3
   },
   "file_extension": ".py",
   "mimetype": "text/x-python",
   "name": "python",
   "nbconvert_exporter": "python",
   "pygments_lexer": "ipython3",
   "version": "3.5.3"
  }
 },
 "nbformat": 4,
 "nbformat_minor": 2
}
