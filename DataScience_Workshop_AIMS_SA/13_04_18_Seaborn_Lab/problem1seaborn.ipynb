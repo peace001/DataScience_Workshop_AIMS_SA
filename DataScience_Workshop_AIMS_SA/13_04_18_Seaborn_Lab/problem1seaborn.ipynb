{
 "cells": [
  {
   "cell_type": "code",
   "execution_count": null,
   "metadata": {
    "ExecuteTime": {
     "end_time": "2017-08-17T10:28:25.285343Z",
     "start_time": "2017-08-17T10:28:25.275897Z"
    }
   },
   "outputs": [],
   "source": [
    "import numpy as np\n",
    "import pandas as pd\n",
    "import matplotlib as mpl\n",
    "import matplotlib.pyplot as plt\n",
    "import seaborn as sns\n",
    "sns.set(style=\"whitegrid\", color_codes=True)"
   ]
  },
  {
   "cell_type": "markdown",
   "metadata": {
    "deletable": false,
    "editable": false,
    "nbgrader": {
     "checksum": "36e298f22a956eaf6636f4c3e80b4a64",
     "grade": false,
     "grade_id": "cell-abfffae1c567a79c",
     "locked": true,
     "schema_version": 1,
     "solution": false
    }
   },
   "source": [
    "### Instructions\n",
    "1. This assignment relies on [pandas-datareader](https://pandas-datareader.readthedocs.io/en/latest/index.html) for the data.\n",
    "1. First we will import some data.\n",
    "1. The data used are:\n",
    "    1. [Government expenditure on education, total (% of GDP)](http://data.worldbank.org/indicator/SE.XPD.TOTL.GD.ZS?view=chart), \n",
    "    1. [Strength of legal rights index (0=weak to 12=strong)](http://data.worldbank.org/indicator/IC.LGL.CRED.XQ?view=chart) and   \n",
    "    1. [Proportion of seats held by women in national parliaments (%)](http://data.worldbank.org/indicator/SG.GEN.PARL.ZS?view=chart)    "
   ]
  },
  {
   "cell_type": "code",
   "execution_count": null,
   "metadata": {
    "ExecuteTime": {
     "end_time": "2017-10-19T10:29:17.892766Z",
     "start_time": "2017-10-19T10:29:17.441605Z"
    },
    "deletable": false,
    "editable": false,
    "nbgrader": {
     "checksum": "f4de443df8c8150706fce76d716b01d8",
     "grade": false,
     "grade_id": "cell-11e978e49042fc7f",
     "locked": true,
     "schema_version": 1,
     "solution": false
    }
   },
   "outputs": [],
   "source": [
    "import datetime\n",
    "import pandas as pd\n",
    "\n",
    "df_edu_vs_legal = pd.read_csv('df_edu_vs_legal.csv', index_col='country')\n",
    "df_edu_vs_legal.head()\n",
    "#df_edu_vs_legal.loc['South Africa']\n",
    "#df_edu_vs_legal.describe()"
   ]
  },
  {
   "cell_type": "markdown",
   "metadata": {},
   "source": [
    "### Question 1 [5]\n",
    "You would like to see the relationship between total expenditure on education as a $\\%$ of GDP and the strength of the legal rights of individuals. You are interested in the individual data points so you should use a scatter plot of sorts. Use a swarm plot from [Seaborn](http://seaborn.pydata.org/) to visualize the data in:\n",
    "```python \n",
    "df_edu_vs_legal\n",
    "```"
   ]
  },
  {
   "cell_type": "code",
   "execution_count": null,
   "metadata": {
    "ExecuteTime": {
     "end_time": "2017-08-17T10:28:28.582430Z",
     "start_time": "2017-08-17T10:28:28.249930Z"
    },
    "deletable": false,
    "nbgrader": {
     "checksum": "79613c5cfdf631ebcb75fdb3f6e6d946",
     "grade": true,
     "grade_id": "cell-218baaec6ba043d9",
     "locked": false,
     "points": 5,
     "schema_version": 1,
     "solution": true
    }
   },
   "outputs": [],
   "source": [
    "# YOUR CODE HERE\n",
    "raise NotImplementedError()"
   ]
  },
  {
   "cell_type": "markdown",
   "metadata": {
    "ExecuteTime": {
     "end_time": "2017-08-11T13:10:22.925611Z",
     "start_time": "2017-08-11T13:10:22.900455Z"
    }
   },
   "source": [
    "### Question 2 [5]\n",
    "\n",
    "It is possible to summarize the distribution of the data in \n",
    "```\n",
    "df_edu_vs_legal\n",
    "``` \n",
    "using a box plot. Seaborn has a box plot that already does all the statistics for you. \n",
    "\n",
    "Use a box plot from seaborn to show the distributions of the education spend for each category of legal rights."
   ]
  },
  {
   "cell_type": "code",
   "execution_count": null,
   "metadata": {
    "ExecuteTime": {
     "end_time": "2017-08-17T10:28:30.241046Z",
     "start_time": "2017-08-17T10:28:29.801975Z"
    },
    "deletable": false,
    "nbgrader": {
     "checksum": "f18531230551b0e9b9b80cbf342cdb43",
     "grade": true,
     "grade_id": "cell-ed18e67208651212",
     "locked": false,
     "points": 5,
     "schema_version": 1,
     "solution": true
    }
   },
   "outputs": [],
   "source": [
    "# YOUR CODE HERE\n",
    "raise NotImplementedError()"
   ]
  },
  {
   "cell_type": "markdown",
   "metadata": {},
   "source": [
    "### Question 3 [5]\n",
    "\n",
    "Another way that you can visualize the above distributions is with a violin plot. See if you can produce a violin plot that also shows the separation in distributions when taking gender into account. We can assume a country has reasonable gender equity if it has more than $30\\%$ of its parliament represented by women."
   ]
  },
  {
   "cell_type": "code",
   "execution_count": null,
   "metadata": {
    "ExecuteTime": {
     "end_time": "2017-08-17T10:28:31.539420Z",
     "start_time": "2017-08-17T10:28:31.154682Z"
    },
    "deletable": false,
    "nbgrader": {
     "checksum": "a84b76e53b941d250a54389e8b00df9d",
     "grade": true,
     "grade_id": "cell-1dac41db419f2d09",
     "locked": false,
     "points": 5,
     "schema_version": 1,
     "solution": true
    }
   },
   "outputs": [],
   "source": [
    "# YOUR CODE HERE\n",
    "raise NotImplementedError()"
   ]
  }
 ],
 "metadata": {
  "hide_input": false,
  "kernelspec": {
   "display_name": "Python 3",
   "language": "python",
   "name": "python3"
  },
  "language_info": {
   "codemirror_mode": {
    "name": "ipython",
    "version": 3
   },
   "file_extension": ".py",
   "mimetype": "text/x-python",
   "name": "python",
   "nbconvert_exporter": "python",
   "pygments_lexer": "ipython3",
   "version": "3.6.5"
  },
  "latex_envs": {
   "LaTeX_envs_menu_present": true,
   "autoclose": false,
   "autocomplete": true,
   "bibliofile": "biblio.bib",
   "cite_by": "apalike",
   "current_citInitial": 1,
   "eqLabelWithNumbers": true,
   "eqNumInitial": 1,
   "hotkeys": {
    "equation": "Ctrl-E",
    "itemize": "Ctrl-I"
   },
   "labels_anchors": false,
   "latex_user_defs": false,
   "report_style_numbering": false,
   "user_envs_cfg": false
  },
  "toc": {
   "colors": {
    "hover_highlight": "#DAA520",
    "navigate_num": "#000000",
    "navigate_text": "#333333",
    "running_highlight": "#FF0000",
    "selected_highlight": "#FFD700",
    "sidebar_border": "#EEEEEE",
    "wrapper_background": "#FFFFFF"
   },
   "moveMenuLeft": true,
   "nav_menu": {
    "height": "12px",
    "width": "252px"
   },
   "navigate_menu": true,
   "number_sections": true,
   "sideBar": true,
   "threshold": 4,
   "toc_cell": false,
   "toc_section_display": "block",
   "toc_window_display": false,
   "widenNotebook": false
  }
 },
 "nbformat": 4,
 "nbformat_minor": 2
}
