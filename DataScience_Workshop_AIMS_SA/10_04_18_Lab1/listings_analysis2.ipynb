{
 "cells": [
  {
   "cell_type": "markdown",
   "metadata": {},
   "source": [
    "# Data Cleaning in Pandas\n",
    "Prepared by:\n",
    "Nyalleng Moorosi - April 10th 2018\n",
    "\n",
    " In this practical we will learn how to do exploratory data analysis using Pandas"
   ]
  },
  {
   "cell_type": "code",
   "execution_count": 26,
   "metadata": {
    "collapsed": true
   },
   "outputs": [],
   "source": [
    "import pandas as pd\n",
    "import numpy as np\n",
    "import matplotlib as plt\n",
    "%matplotlib inline  "
   ]
  },
  {
   "cell_type": "markdown",
   "metadata": {},
   "source": [
    "** Read in the CSV file **"
   ]
  },
  {
   "cell_type": "code",
   "execution_count": 27,
   "metadata": {
    "collapsed": true
   },
   "outputs": [],
   "source": [
    "listings = pd.read_csv('listings2.csv')"
   ]
  },
  {
   "cell_type": "code",
   "execution_count": 29,
   "metadata": {
    "collapsed": false
   },
   "outputs": [],
   "source": [
    "desc = listings['description']"
   ]
  },
  {
   "cell_type": "code",
   "execution_count": 35,
   "metadata": {
    "collapsed": false
   },
   "outputs": [
    {
     "data": {
      "text/plain": [
       "5     Lovely family home built in 1895!  In very goo...\n",
       "6     This house is move-in ready!Near the hub of Th...\n",
       "7     TIMELESS, TRANQUIL ELEGANCEThis 380m2 single s...\n",
       "8     EXCLUSIVELY ENTHRALLINGThis 380m2 residence is...\n",
       "9     You will fall in love with this home:  smart, ...\n",
       "10    Build it up, or tear it down - you have 1239 s...\n",
       "11    Thatch roofed, multi level home nestled in an ...\n",
       "12    This is a stunning five bedroom, family house ...\n",
       "13    EXCLUSIVE MANDATE .Exceptionally well maintain...\n",
       "14    - Maximise your capital  investment,excellent ...\n",
       "Name: description, dtype: object"
      ]
     },
     "execution_count": 35,
     "metadata": {},
     "output_type": "execute_result"
    }
   ],
   "source": [
    "desc[5:15]"
   ]
  },
  {
   "cell_type": "code",
   "execution_count": 38,
   "metadata": {
    "collapsed": false
   },
   "outputs": [
    {
     "data": {
      "text/plain": [
       "['r']"
      ]
     },
     "execution_count": 38,
     "metadata": {},
     "output_type": "execute_result"
    }
   ],
   "source": [
    "l = ['r', 't', 7, 'y']\n",
    "l[0:3][:1]"
   ]
  },
  {
   "cell_type": "code",
   "execution_count": 39,
   "metadata": {
    "collapsed": false
   },
   "outputs": [
    {
     "data": {
      "text/plain": [
       "'al'"
      ]
     },
     "execution_count": 39,
     "metadata": {},
     "output_type": "execute_result"
    }
   ],
   "source": [
    "s = 'Nyalleng'\n",
    "s[2:4]"
   ]
  },
  {
   "cell_type": "code",
   "execution_count": 40,
   "metadata": {
    "collapsed": false
   },
   "outputs": [
    {
     "data": {
      "text/plain": [
       "[7]"
      ]
     },
     "execution_count": 40,
     "metadata": {},
     "output_type": "execute_result"
    }
   ],
   "source": [
    "[x for x in l if x == 7]"
   ]
  },
  {
   "cell_type": "code",
   "execution_count": 41,
   "metadata": {
    "collapsed": false
   },
   "outputs": [
    {
     "name": "stdout",
     "output_type": "stream",
     "text": [
      "r\n",
      "t\n",
      "7\n",
      "y\n"
     ]
    }
   ],
   "source": [
    "for x in l:\n",
    "    print x"
   ]
  },
  {
   "cell_type": "markdown",
   "metadata": {},
   "source": [
    "**Have a look at the data**"
   ]
  },
  {
   "cell_type": "code",
   "execution_count": 42,
   "metadata": {
    "collapsed": false
   },
   "outputs": [
    {
     "name": "stdout",
     "output_type": "stream",
     "text": [
      "r\n",
      "t\n",
      "7\n",
      "y\n"
     ]
    }
   ],
   "source": [
    "for i in range(0,len(l)):\n",
    "    print l[i]"
   ]
  },
  {
   "cell_type": "code",
   "execution_count": 45,
   "metadata": {
    "collapsed": false
   },
   "outputs": [
    {
     "data": {
      "text/plain": [
       "(8850, 9)"
      ]
     },
     "execution_count": 45,
     "metadata": {},
     "output_type": "execute_result"
    }
   ],
   "source": [
    "listings.shape"
   ]
  },
  {
   "cell_type": "code",
   "execution_count": 44,
   "metadata": {
    "collapsed": false
   },
   "outputs": [
    {
     "data": {
      "text/html": [
       "<div>\n",
       "<table border=\"1\" class=\"dataframe\">\n",
       "  <thead>\n",
       "    <tr style=\"text-align: right;\">\n",
       "      <th></th>\n",
       "      <th>Unnamed: 0</th>\n",
       "      <th>bathrooms</th>\n",
       "      <th>bedrooms</th>\n",
       "      <th>description</th>\n",
       "      <th>garage</th>\n",
       "      <th>location</th>\n",
       "      <th>other</th>\n",
       "      <th>price</th>\n",
       "      <th>title</th>\n",
       "    </tr>\n",
       "  </thead>\n",
       "  <tbody>\n",
       "    <tr>\n",
       "      <th>100</th>\n",
       "      <td>100</td>\n",
       "      <td>1</td>\n",
       "      <td>1</td>\n",
       "      <td>Dear Property buyerBargain For Sale at the bes...</td>\n",
       "      <td>31 Cum Laude 560 Grosvenor Street</td>\n",
       "      <td>560-grosvenor-street</td>\n",
       "      <td>[31 Cum Laude 560 Grosvenor Street, Andre Kelb...</td>\n",
       "      <td>R 659 000</td>\n",
       "      <td>Apartment in Hatfield</td>\n",
       "    </tr>\n",
       "    <tr>\n",
       "      <th>101</th>\n",
       "      <td>101</td>\n",
       "      <td>1</td>\n",
       "      <td>1</td>\n",
       "      <td>Dear Property buyer.Hatfield apartment For Sal...</td>\n",
       "      <td>13 Du South 1195 South Street</td>\n",
       "      <td>1195-south-street</td>\n",
       "      <td>[13 Du South 1195 South Street, Andre Kelbrick]</td>\n",
       "      <td>R 699 000</td>\n",
       "      <td>Apartment in Hatfield</td>\n",
       "    </tr>\n",
       "    <tr>\n",
       "      <th>102</th>\n",
       "      <td>102</td>\n",
       "      <td>2 Villa Magnolia 1232 Park Street</td>\n",
       "      <td>1</td>\n",
       "      <td>Dear Property buyer.Hatfield Up-Market Flat Fo...</td>\n",
       "      <td>Andre Kelbrick</td>\n",
       "      <td>1232-park-street</td>\n",
       "      <td>[Andre Kelbrick]</td>\n",
       "      <td>R 699 000</td>\n",
       "      <td>Studio Apartment in Hatfield</td>\n",
       "    </tr>\n",
       "  </tbody>\n",
       "</table>\n",
       "</div>"
      ],
      "text/plain": [
       "     Unnamed: 0                          bathrooms bedrooms  \\\n",
       "100         100                                  1        1   \n",
       "101         101                                  1        1   \n",
       "102         102  2 Villa Magnolia 1232 Park Street        1   \n",
       "\n",
       "                                           description  \\\n",
       "100  Dear Property buyerBargain For Sale at the bes...   \n",
       "101  Dear Property buyer.Hatfield apartment For Sal...   \n",
       "102  Dear Property buyer.Hatfield Up-Market Flat Fo...   \n",
       "\n",
       "                                garage              location  \\\n",
       "100  31 Cum Laude 560 Grosvenor Street  560-grosvenor-street   \n",
       "101      13 Du South 1195 South Street     1195-south-street   \n",
       "102                     Andre Kelbrick      1232-park-street   \n",
       "\n",
       "                                                 other      price  \\\n",
       "100  [31 Cum Laude 560 Grosvenor Street, Andre Kelb...  R 659 000   \n",
       "101    [13 Du South 1195 South Street, Andre Kelbrick]  R 699 000   \n",
       "102                                   [Andre Kelbrick]  R 699 000   \n",
       "\n",
       "                            title  \n",
       "100         Apartment in Hatfield  \n",
       "101         Apartment in Hatfield  \n",
       "102  Studio Apartment in Hatfield  "
      ]
     },
     "execution_count": 44,
     "metadata": {},
     "output_type": "execute_result"
    }
   ],
   "source": [
    "listings[100:103]"
   ]
  },
  {
   "cell_type": "code",
   "execution_count": 48,
   "metadata": {
    "collapsed": false
   },
   "outputs": [
    {
     "data": {
      "text/html": [
       "<div>\n",
       "<table border=\"1\" class=\"dataframe\">\n",
       "  <thead>\n",
       "    <tr style=\"text-align: right;\">\n",
       "      <th></th>\n",
       "      <th>bedrooms</th>\n",
       "      <th>bathrooms</th>\n",
       "      <th>price</th>\n",
       "    </tr>\n",
       "  </thead>\n",
       "  <tbody>\n",
       "    <tr>\n",
       "      <th>0</th>\n",
       "      <td>3</td>\n",
       "      <td>2</td>\n",
       "      <td>R 1 390 000</td>\n",
       "    </tr>\n",
       "    <tr>\n",
       "      <th>1</th>\n",
       "      <td>4</td>\n",
       "      <td>3</td>\n",
       "      <td>R 3 000 000</td>\n",
       "    </tr>\n",
       "    <tr>\n",
       "      <th>2</th>\n",
       "      <td>4</td>\n",
       "      <td>3</td>\n",
       "      <td>R 3 450 000</td>\n",
       "    </tr>\n",
       "    <tr>\n",
       "      <th>3</th>\n",
       "      <td>3</td>\n",
       "      <td>3</td>\n",
       "      <td>R 3 500 000</td>\n",
       "    </tr>\n",
       "    <tr>\n",
       "      <th>4</th>\n",
       "      <td>2</td>\n",
       "      <td>1</td>\n",
       "      <td>R 1 100 000</td>\n",
       "    </tr>\n",
       "  </tbody>\n",
       "</table>\n",
       "</div>"
      ],
      "text/plain": [
       "  bedrooms bathrooms        price\n",
       "0        3         2  R 1 390 000\n",
       "1        4         3  R 3 000 000\n",
       "2        4         3  R 3 450 000\n",
       "3        3         3  R 3 500 000\n",
       "4        2         1  R 1 100 000"
      ]
     },
     "execution_count": 48,
     "metadata": {},
     "output_type": "execute_result"
    }
   ],
   "source": [
    "interesting = listings[['bedrooms','bathrooms','price']]\n",
    "interesting[:5]"
   ]
  },
  {
   "cell_type": "code",
   "execution_count": 51,
   "metadata": {
    "collapsed": true
   },
   "outputs": [],
   "source": [
    "listings['bedrooms'] = pd.to_numeric(listings.bedrooms, downcast='float', errors='coerce')"
   ]
  },
  {
   "cell_type": "markdown",
   "metadata": {},
   "source": [
    "** Combining conditions **"
   ]
  },
  {
   "cell_type": "code",
   "execution_count": 57,
   "metadata": {
    "collapsed": false
   },
   "outputs": [
    {
     "data": {
      "text/html": [
       "<div>\n",
       "<table border=\"1\" class=\"dataframe\">\n",
       "  <thead>\n",
       "    <tr style=\"text-align: right;\">\n",
       "      <th></th>\n",
       "      <th>Unnamed: 0</th>\n",
       "      <th>bathrooms</th>\n",
       "      <th>bedrooms</th>\n",
       "      <th>description</th>\n",
       "      <th>garage</th>\n",
       "      <th>location</th>\n",
       "      <th>other</th>\n",
       "      <th>price</th>\n",
       "      <th>title</th>\n",
       "    </tr>\n",
       "  </thead>\n",
       "  <tbody>\n",
       "    <tr>\n",
       "      <th>10</th>\n",
       "      <td>10</td>\n",
       "      <td>4</td>\n",
       "      <td>5.0</td>\n",
       "      <td>Build it up, or tear it down - you have 1239 s...</td>\n",
       "      <td>Pets</td>\n",
       "      <td>lukasrand</td>\n",
       "      <td>[Pets, Pool, Staff Quarters, Patio]</td>\n",
       "      <td>R 3 120 000</td>\n",
       "      <td>House in Lukasrand</td>\n",
       "    </tr>\n",
       "    <tr>\n",
       "      <th>12</th>\n",
       "      <td>12</td>\n",
       "      <td>3</td>\n",
       "      <td>5.0</td>\n",
       "      <td>This is a stunning five bedroom, family house ...</td>\n",
       "      <td>Pool</td>\n",
       "      <td>waterkloof-heights</td>\n",
       "      <td>[Pool, Staff Quarters, Patio, BIC, For Sale By...</td>\n",
       "      <td>R 3 800 000</td>\n",
       "      <td>House in Waterkloof Heights</td>\n",
       "    </tr>\n",
       "  </tbody>\n",
       "</table>\n",
       "</div>"
      ],
      "text/plain": [
       "    Unnamed: 0 bathrooms  bedrooms  \\\n",
       "10          10         4       5.0   \n",
       "12          12         3       5.0   \n",
       "\n",
       "                                          description garage  \\\n",
       "10  Build it up, or tear it down - you have 1239 s...   Pets   \n",
       "12  This is a stunning five bedroom, family house ...   Pool   \n",
       "\n",
       "              location                                              other  \\\n",
       "10           lukasrand                [Pets, Pool, Staff Quarters, Patio]   \n",
       "12  waterkloof-heights  [Pool, Staff Quarters, Patio, BIC, For Sale By...   \n",
       "\n",
       "          price                        title  \n",
       "10  R 3 120 000           House in Lukasrand  \n",
       "12  R 3 800 000  House in Waterkloof Heights  "
      ]
     },
     "execution_count": 57,
     "metadata": {},
     "output_type": "execute_result"
    }
   ],
   "source": [
    "listings[(listings['bedrooms'] == 5) | (listings['location'] == 'lukasrand')][:2]"
   ]
  },
  {
   "cell_type": "code",
   "execution_count": 61,
   "metadata": {
    "collapsed": false
   },
   "outputs": [
    {
     "data": {
      "text/html": [
       "<div>\n",
       "<table border=\"1\" class=\"dataframe\">\n",
       "  <thead>\n",
       "    <tr style=\"text-align: right;\">\n",
       "      <th></th>\n",
       "      <th>Unnamed: 0</th>\n",
       "      <th>bathrooms</th>\n",
       "      <th>bedrooms</th>\n",
       "      <th>description</th>\n",
       "      <th>garage</th>\n",
       "      <th>location</th>\n",
       "      <th>other</th>\n",
       "      <th>price</th>\n",
       "      <th>title</th>\n",
       "    </tr>\n",
       "  </thead>\n",
       "  <tbody>\n",
       "    <tr>\n",
       "      <th>1446</th>\n",
       "      <td>1446</td>\n",
       "      <td>12</td>\n",
       "      <td>41.0</td>\n",
       "      <td>Commercial residential property situated in Pr...</td>\n",
       "      <td>2</td>\n",
       "      <td>13-bourke-street</td>\n",
       "      <td>[2, Pool, Access Gate, Staff Quarters, Elec. F...</td>\n",
       "      <td>R 10 570 000</td>\n",
       "      <td>Flat in Sunnyside</td>\n",
       "    </tr>\n",
       "    <tr>\n",
       "      <th>1470</th>\n",
       "      <td>1470</td>\n",
       "      <td>12</td>\n",
       "      <td>41.0</td>\n",
       "      <td>Commercial residential property situated in Pr...</td>\n",
       "      <td>2</td>\n",
       "      <td>13-bourke-street</td>\n",
       "      <td>[2, Pool, Access Gate, Staff Quarters, Elec. F...</td>\n",
       "      <td>R 10 570 000</td>\n",
       "      <td>Flat in Sunnyside</td>\n",
       "    </tr>\n",
       "  </tbody>\n",
       "</table>\n",
       "</div>"
      ],
      "text/plain": [
       "      Unnamed: 0 bathrooms  bedrooms  \\\n",
       "1446        1446        12      41.0   \n",
       "1470        1470        12      41.0   \n",
       "\n",
       "                                            description garage  \\\n",
       "1446  Commercial residential property situated in Pr...      2   \n",
       "1470  Commercial residential property situated in Pr...      2   \n",
       "\n",
       "              location                                              other  \\\n",
       "1446  13-bourke-street  [2, Pool, Access Gate, Staff Quarters, Elec. F...   \n",
       "1470  13-bourke-street  [2, Pool, Access Gate, Staff Quarters, Elec. F...   \n",
       "\n",
       "             price              title  \n",
       "1446  R 10 570 000  Flat in Sunnyside  \n",
       "1470  R 10 570 000  Flat in Sunnyside  "
      ]
     },
     "execution_count": 61,
     "metadata": {},
     "output_type": "execute_result"
    }
   ],
   "source": [
    "listings[listings['bedrooms'] == 41]"
   ]
  },
  {
   "cell_type": "markdown",
   "metadata": {},
   "source": [
    "** Grouping by attribute**"
   ]
  },
  {
   "cell_type": "code",
   "execution_count": 62,
   "metadata": {
    "collapsed": false
   },
   "outputs": [
    {
     "data": {
      "text/plain": [
       "<matplotlib.axes._subplots.AxesSubplot at 0x7f1e1f5725d0>"
      ]
     },
     "execution_count": 62,
     "metadata": {},
     "output_type": "execute_result"
    },
    {
     "data": {
      "image/png": "[encoded data removed]",
      "text/plain": [
       "<matplotlib.figure.Figure at 0x7f1e1f56dc50>"
      ]
     },
     "metadata": {},
     "output_type": "display_data"
    }
   ],
   "source": [
    "listings.groupby('bedrooms').agg('count')['title'].plot()"
   ]
  },
  {
   "cell_type": "code",
   "execution_count": 52,
   "metadata": {
    "collapsed": false
   },
   "outputs": [
    {
     "data": {
      "text/html": [
       "<div>\n",
       "<table border=\"1\" class=\"dataframe\">\n",
       "  <thead>\n",
       "    <tr style=\"text-align: right;\">\n",
       "      <th></th>\n",
       "      <th>Unnamed: 0</th>\n",
       "      <th>bathrooms</th>\n",
       "      <th>bedrooms</th>\n",
       "      <th>description</th>\n",
       "      <th>garage</th>\n",
       "      <th>location</th>\n",
       "      <th>other</th>\n",
       "      <th>price</th>\n",
       "      <th>title</th>\n",
       "    </tr>\n",
       "  </thead>\n",
       "  <tbody>\n",
       "    <tr>\n",
       "      <th>10</th>\n",
       "      <td>10</td>\n",
       "      <td>4</td>\n",
       "      <td>5.0</td>\n",
       "      <td>Build it up, or tear it down - you have 1239 s...</td>\n",
       "      <td>Pets</td>\n",
       "      <td>lukasrand</td>\n",
       "      <td>[Pets, Pool, Staff Quarters, Patio]</td>\n",
       "      <td>R 3 120 000</td>\n",
       "      <td>House in Lukasrand</td>\n",
       "    </tr>\n",
       "    <tr>\n",
       "      <th>12</th>\n",
       "      <td>12</td>\n",
       "      <td>3</td>\n",
       "      <td>5.0</td>\n",
       "      <td>This is a stunning five bedroom, family house ...</td>\n",
       "      <td>Pool</td>\n",
       "      <td>waterkloof-heights</td>\n",
       "      <td>[Pool, Staff Quarters, Patio, BIC, For Sale By...</td>\n",
       "      <td>R 3 800 000</td>\n",
       "      <td>House in Waterkloof Heights</td>\n",
       "    </tr>\n",
       "    <tr>\n",
       "      <th>18</th>\n",
       "      <td>18</td>\n",
       "      <td>3</td>\n",
       "      <td>5.0</td>\n",
       "      <td>WATERKLOOF RIDGE Exclusive Mandate.If it is sp...</td>\n",
       "      <td>5</td>\n",
       "      <td>waterkloof-ridge</td>\n",
       "      <td>[5, Pool, Staff Quarters, Chris Yeomans]</td>\n",
       "      <td>R 5 500 000</td>\n",
       "      <td>House in Waterkloof Ridge</td>\n",
       "    </tr>\n",
       "  </tbody>\n",
       "</table>\n",
       "</div>"
      ],
      "text/plain": [
       "    Unnamed: 0 bathrooms  bedrooms  \\\n",
       "10          10         4       5.0   \n",
       "12          12         3       5.0   \n",
       "18          18         3       5.0   \n",
       "\n",
       "                                          description garage  \\\n",
       "10  Build it up, or tear it down - you have 1239 s...   Pets   \n",
       "12  This is a stunning five bedroom, family house ...   Pool   \n",
       "18  WATERKLOOF RIDGE Exclusive Mandate.If it is sp...      5   \n",
       "\n",
       "              location                                              other  \\\n",
       "10           lukasrand                [Pets, Pool, Staff Quarters, Patio]   \n",
       "12  waterkloof-heights  [Pool, Staff Quarters, Patio, BIC, For Sale By...   \n",
       "18    waterkloof-ridge           [5, Pool, Staff Quarters, Chris Yeomans]   \n",
       "\n",
       "          price                        title  \n",
       "10  R 3 120 000           House in Lukasrand  \n",
       "12  R 3 800 000  House in Waterkloof Heights  \n",
       "18  R 5 500 000    House in Waterkloof Ridge  "
      ]
     },
     "execution_count": 52,
     "metadata": {},
     "output_type": "execute_result"
    }
   ],
   "source": [
    "listings[listings['bedrooms'] > 4][:3]"
   ]
  },
  {
   "cell_type": "markdown",
   "metadata": {},
   "source": [
    "** Have a look at the datatypes in the the data frame **"
   ]
  },
  {
   "cell_type": "code",
   "execution_count": 5,
   "metadata": {
    "collapsed": false
   },
   "outputs": [
    {
     "data": {
      "text/plain": [
       "Unnamed: 0      int64\n",
       "bathrooms      object\n",
       "bedrooms       object\n",
       "description    object\n",
       "garage         object\n",
       "location       object\n",
       "other          object\n",
       "price          object\n",
       "title          object\n",
       "dtype: object"
      ]
     },
     "execution_count": 5,
     "metadata": {},
     "output_type": "execute_result"
    }
   ],
   "source": [
    "listings.dtypes"
   ]
  },
  {
   "cell_type": "code",
   "execution_count": 12,
   "metadata": {
    "collapsed": false
   },
   "outputs": [
    {
     "data": {
      "text/plain": [
       "2.9217134"
      ]
     },
     "execution_count": 12,
     "metadata": {},
     "output_type": "execute_result"
    }
   ],
   "source": [
    "listings['bedrooms'].mean()"
   ]
  },
  {
   "cell_type": "markdown",
   "metadata": {},
   "source": [
    "** Transform your data"
   ]
  },
  {
   "cell_type": "code",
   "execution_count": 9,
   "metadata": {
    "collapsed": true
   },
   "outputs": [],
   "source": [
    "listings['bedrooms'] = pd.to_numeric(listings.bedrooms, downcast='float', errors='coerce')"
   ]
  },
  {
   "cell_type": "code",
   "execution_count": 10,
   "metadata": {
    "collapsed": false
   },
   "outputs": [
    {
     "data": {
      "text/html": [
       "<div>\n",
       "<table border=\"1\" class=\"dataframe\">\n",
       "  <thead>\n",
       "    <tr style=\"text-align: right;\">\n",
       "      <th></th>\n",
       "      <th>Unnamed: 0</th>\n",
       "      <th>bathrooms</th>\n",
       "      <th>bedrooms</th>\n",
       "      <th>description</th>\n",
       "      <th>garage</th>\n",
       "      <th>location</th>\n",
       "      <th>other</th>\n",
       "      <th>price</th>\n",
       "      <th>title</th>\n",
       "    </tr>\n",
       "  </thead>\n",
       "  <tbody>\n",
       "    <tr>\n",
       "      <th>0</th>\n",
       "      <td>0</td>\n",
       "      <td>2</td>\n",
       "      <td>3.0</td>\n",
       "      <td>This is a corner unit with a bigger garden tha...</td>\n",
       "      <td>1</td>\n",
       "      <td>559-wipstert-street</td>\n",
       "      <td>[1, Pets, Alarm, Access Gate, Elec. Fencing, 4...</td>\n",
       "      <td>R 1 390 000</td>\n",
       "      <td>Duplex in Monument Park</td>\n",
       "    </tr>\n",
       "    <tr>\n",
       "      <th>1</th>\n",
       "      <td>1</td>\n",
       "      <td>3</td>\n",
       "      <td>4.0</td>\n",
       "      <td>The Main dwelling is accessed by means of a pe...</td>\n",
       "      <td>2</td>\n",
       "      <td>257-muckleneuk-street</td>\n",
       "      <td>[2, Alarm, Access Gate, BIC, 257 Muckleneuk St...</td>\n",
       "      <td>R 3 000 000</td>\n",
       "      <td>House in New Muckleneuk</td>\n",
       "    </tr>\n",
       "    <tr>\n",
       "      <th>2</th>\n",
       "      <td>2</td>\n",
       "      <td>3</td>\n",
       "      <td>4.0</td>\n",
       "      <td>EXCLUSIVE MANDATEThis dreamy single storey hom...</td>\n",
       "      <td>2</td>\n",
       "      <td>262-indus</td>\n",
       "      <td>[2, Pool, Elec. Fencing, Garden Cott., Patio, ...</td>\n",
       "      <td>R 3 450 000</td>\n",
       "      <td>House in Waterkloof Ridge</td>\n",
       "    </tr>\n",
       "  </tbody>\n",
       "</table>\n",
       "</div>"
      ],
      "text/plain": [
       "   Unnamed: 0 bathrooms  bedrooms  \\\n",
       "0           0         2       3.0   \n",
       "1           1         3       4.0   \n",
       "2           2         3       4.0   \n",
       "\n",
       "                                         description garage  \\\n",
       "0  This is a corner unit with a bigger garden tha...      1   \n",
       "1  The Main dwelling is accessed by means of a pe...      2   \n",
       "2  EXCLUSIVE MANDATEThis dreamy single storey hom...      2   \n",
       "\n",
       "                location                                              other  \\\n",
       "0    559-wipstert-street  [1, Pets, Alarm, Access Gate, Elec. Fencing, 4...   \n",
       "1  257-muckleneuk-street  [2, Alarm, Access Gate, BIC, 257 Muckleneuk St...   \n",
       "2              262-indus  [2, Pool, Elec. Fencing, Garden Cott., Patio, ...   \n",
       "\n",
       "         price                      title  \n",
       "0  R 1 390 000    Duplex in Monument Park  \n",
       "1  R 3 000 000    House in New Muckleneuk  \n",
       "2  R 3 450 000  House in Waterkloof Ridge  "
      ]
     },
     "execution_count": 10,
     "metadata": {},
     "output_type": "execute_result"
    }
   ],
   "source": [
    "listings[:3]"
   ]
  },
  {
   "cell_type": "markdown",
   "metadata": {},
   "source": [
    "** Problem 1 ** : Write a lambda function that appends on to the dataframe a new column that contains the size of the description for each listing\n",
    "--To set a new column do ** listings['desc_len']  = ..**\n",
    "\n",
    "**Problem 2 ** Modify all other coloums that should be numeric"
   ]
  },
  {
   "cell_type": "markdown",
   "metadata": {},
   "source": [
    "### Do some summary statistics\n",
    "    -- extend to mean and average"
   ]
  },
  {
   "cell_type": "code",
   "execution_count": 89,
   "metadata": {
    "collapsed": false
   },
   "outputs": [
    {
     "data": {
      "text/plain": [
       "2.921713352203369"
      ]
     },
     "execution_count": 89,
     "metadata": {},
     "output_type": "execute_result"
    }
   ],
   "source": [
    "listings['bedrooms'].mean()"
   ]
  },
  {
   "cell_type": "code",
   "execution_count": null,
   "metadata": {
    "collapsed": true
   },
   "outputs": [],
   "source": []
  },
  {
   "cell_type": "markdown",
   "metadata": {},
   "source": [
    "### Grouping and further counting"
   ]
  },
  {
   "cell_type": "code",
   "execution_count": 41,
   "metadata": {
    "collapsed": false
   },
   "outputs": [
    {
     "data": {
      "text/plain": [
       "<matplotlib.axes._subplots.AxesSubplot at 0x7fee849b9390>"
      ]
     },
     "execution_count": 41,
     "metadata": {},
     "output_type": "execute_result"
    },
    {
     "data": {
      "image/png": "[encoded data removed]",
      "text/plain": [
       "<matplotlib.figure.Figure at 0x7fee895f62d0>"
      ]
     },
     "metadata": {},
     "output_type": "display_data"
    }
   ],
   "source": [
    "listings.groupby('bedrooms').agg('count')['price'].plot(kind = 'bar')"
   ]
  },
  {
   "cell_type": "markdown",
   "metadata": {},
   "source": [
    "** Problem 3: ** Find the location with the most expensive housing "
   ]
  },
  {
   "cell_type": "markdown",
   "metadata": {},
   "source": [
    "** Select certain features of interest **"
   ]
  },
  {
   "cell_type": "code",
   "execution_count": 96,
   "metadata": {
    "collapsed": true
   },
   "outputs": [],
   "source": [
    "large_houses = listings[listings['bedrooms'] > 10]"
   ]
  },
  {
   "cell_type": "code",
   "execution_count": 97,
   "metadata": {
    "collapsed": false
   },
   "outputs": [
    {
     "data": {
      "text/html": [
       "<div>\n",
       "<style>\n",
       "    .dataframe thead tr:only-child th {\n",
       "        text-align: right;\n",
       "    }\n",
       "\n",
       "    .dataframe thead th {\n",
       "        text-align: left;\n",
       "    }\n",
       "\n",
       "    .dataframe tbody tr th {\n",
       "        vertical-align: top;\n",
       "    }\n",
       "</style>\n",
       "<table border=\"1\" class=\"dataframe\">\n",
       "  <thead>\n",
       "    <tr style=\"text-align: right;\">\n",
       "      <th></th>\n",
       "      <th>Unnamed: 0</th>\n",
       "      <th>bathrooms</th>\n",
       "      <th>bedrooms</th>\n",
       "      <th>description</th>\n",
       "      <th>garage</th>\n",
       "      <th>location</th>\n",
       "      <th>other</th>\n",
       "      <th>price</th>\n",
       "      <th>title</th>\n",
       "    </tr>\n",
       "  </thead>\n",
       "  <tbody>\n",
       "    <tr>\n",
       "      <th>203</th>\n",
       "      <td>203</td>\n",
       "      <td>6</td>\n",
       "      <td>11.0</td>\n",
       "      <td>An eleven bedroom house in a  well situated lo...</td>\n",
       "      <td>Hayford Obeng</td>\n",
       "      <td>hatfield</td>\n",
       "      <td>[Hayford Obeng]</td>\n",
       "      <td>R 4 500 000</td>\n",
       "      <td>House in Hatfield</td>\n",
       "    </tr>\n",
       "    <tr>\n",
       "      <th>227</th>\n",
       "      <td>227</td>\n",
       "      <td>6</td>\n",
       "      <td>11.0</td>\n",
       "      <td>An eleven bedroom house in a  well situated lo...</td>\n",
       "      <td>Hayford Obeng</td>\n",
       "      <td>hatfield</td>\n",
       "      <td>[Hayford Obeng]</td>\n",
       "      <td>R 4 500 000</td>\n",
       "      <td>House in Hatfield</td>\n",
       "    </tr>\n",
       "    <tr>\n",
       "      <th>244</th>\n",
       "      <td>244</td>\n",
       "      <td>9</td>\n",
       "      <td>11.0</td>\n",
       "      <td>Family home / Guesthouse or Excellent Investme...</td>\n",
       "      <td>2</td>\n",
       "      <td>eastwood</td>\n",
       "      <td>[2, Pets, Alarm, Access Gate, Staff Quarters, ...</td>\n",
       "      <td>R 5 475 000</td>\n",
       "      <td>House in Eastwood</td>\n",
       "    </tr>\n",
       "  </tbody>\n",
       "</table>\n",
       "</div>"
      ],
      "text/plain": [
       "     Unnamed: 0 bathrooms  bedrooms  \\\n",
       "203         203         6      11.0   \n",
       "227         227         6      11.0   \n",
       "244         244         9      11.0   \n",
       "\n",
       "                                           description         garage  \\\n",
       "203  An eleven bedroom house in a  well situated lo...  Hayford Obeng   \n",
       "227  An eleven bedroom house in a  well situated lo...  Hayford Obeng   \n",
       "244  Family home / Guesthouse or Excellent Investme...              2   \n",
       "\n",
       "     location                                              other        price  \\\n",
       "203  hatfield                                    [Hayford Obeng]  R 4 500 000   \n",
       "227  hatfield                                    [Hayford Obeng]  R 4 500 000   \n",
       "244  eastwood  [2, Pets, Alarm, Access Gate, Staff Quarters, ...  R 5 475 000   \n",
       "\n",
       "                 title  \n",
       "203  House in Hatfield  \n",
       "227  House in Hatfield  \n",
       "244  House in Eastwood  "
      ]
     },
     "execution_count": 97,
     "metadata": {},
     "output_type": "execute_result"
    }
   ],
   "source": [
    "large_houses[:3]"
   ]
  },
  {
   "cell_type": "markdown",
   "metadata": {},
   "source": [
    "** Problem 4: ** Find Houses that have the same number of bedrooms as bathrooms"
   ]
  },
  {
   "cell_type": "code",
   "execution_count": 98,
   "metadata": {
    "collapsed": false
   },
   "outputs": [
    {
     "data": {
      "text/plain": [
       "<matplotlib.axes._subplots.AxesSubplot at 0x7fee832be350>"
      ]
     },
     "execution_count": 98,
     "metadata": {},
     "output_type": "execute_result"
    },
    {
     "data": {
      "image/png": "[encoded data removed]",
      "text/plain": [
       "<matplotlib.figure.Figure at 0x7fee832b7d50>"
      ]
     },
     "metadata": {},
     "output_type": "display_data"
    }
   ],
   "source": [
    "listings.groupby('price').agg('count')['bedrooms'].plot(kind = 'bar')"
   ]
  },
  {
   "cell_type": "markdown",
   "metadata": {},
   "source": [
    "#### transforming a value using a helper function"
   ]
  },
  {
   "cell_type": "code",
   "execution_count": 64,
   "metadata": {
    "collapsed": true
   },
   "outputs": [],
   "source": [
    "listings['price'] = listings['price'].apply(lambda x: clean_price(x))"
   ]
  },
  {
   "cell_type": "code",
   "execution_count": 66,
   "metadata": {
    "collapsed": false
   },
   "outputs": [
    {
     "data": {
      "text/html": [
       "<div>\n",
       "<table border=\"1\" class=\"dataframe\">\n",
       "  <thead>\n",
       "    <tr style=\"text-align: right;\">\n",
       "      <th></th>\n",
       "      <th>Unnamed: 0</th>\n",
       "      <th>bathrooms</th>\n",
       "      <th>bedrooms</th>\n",
       "      <th>description</th>\n",
       "      <th>garage</th>\n",
       "      <th>location</th>\n",
       "      <th>other</th>\n",
       "      <th>price</th>\n",
       "      <th>title</th>\n",
       "    </tr>\n",
       "  </thead>\n",
       "  <tbody>\n",
       "    <tr>\n",
       "      <th>0</th>\n",
       "      <td>0</td>\n",
       "      <td>2</td>\n",
       "      <td>3.0</td>\n",
       "      <td>This is a corner unit with a bigger garden tha...</td>\n",
       "      <td>1</td>\n",
       "      <td>559-wipstert-street</td>\n",
       "      <td>[1, Pets, Alarm, Access Gate, Elec. Fencing, 4...</td>\n",
       "      <td>1390000.0</td>\n",
       "      <td>Duplex in Monument Park</td>\n",
       "    </tr>\n",
       "  </tbody>\n",
       "</table>\n",
       "</div>"
      ],
      "text/plain": [
       "   Unnamed: 0 bathrooms  bedrooms  \\\n",
       "0           0         2       3.0   \n",
       "\n",
       "                                         description garage  \\\n",
       "0  This is a corner unit with a bigger garden tha...      1   \n",
       "\n",
       "              location                                              other  \\\n",
       "0  559-wipstert-street  [1, Pets, Alarm, Access Gate, Elec. Fencing, 4...   \n",
       "\n",
       "       price                    title  \n",
       "0  1390000.0  Duplex in Monument Park  "
      ]
     },
     "execution_count": 66,
     "metadata": {},
     "output_type": "execute_result"
    }
   ],
   "source": [
    "listings[:1]"
   ]
  },
  {
   "cell_type": "code",
   "execution_count": 63,
   "metadata": {
    "collapsed": true
   },
   "outputs": [],
   "source": [
    "def clean_price(x):\n",
    "    try:\n",
    "        return float(x[1:].replace(' ',''))\n",
    "    except ValueError:\n",
    "        return 0"
   ]
  },
  {
   "cell_type": "code",
   "execution_count": 16,
   "metadata": {
    "collapsed": false
   },
   "outputs": [
    {
     "data": {
      "text/plain": [
       "[1390000.0, 3000000.0, 3450000.0, 3500000.0]"
      ]
     },
     "execution_count": 16,
     "metadata": {},
     "output_type": "execute_result"
    }
   ],
   "source": [
    "prices[:4]"
   ]
  },
  {
   "cell_type": "code",
   "execution_count": 18,
   "metadata": {
    "collapsed": false
   },
   "outputs": [
    {
     "data": {
      "text/plain": [
       "1934731.84519774"
      ]
     },
     "execution_count": 18,
     "metadata": {},
     "output_type": "execute_result"
    }
   ],
   "source": [
    "np.mean(prices)"
   ]
  },
  {
   "cell_type": "code",
   "execution_count": 19,
   "metadata": {
    "collapsed": true
   },
   "outputs": [],
   "source": [
    "s = 'Nyalleng'"
   ]
  },
  {
   "cell_type": "code",
   "execution_count": 20,
   "metadata": {
    "collapsed": false
   },
   "outputs": [
    {
     "data": {
      "text/plain": [
       "'yalleng'"
      ]
     },
     "execution_count": 20,
     "metadata": {},
     "output_type": "execute_result"
    }
   ],
   "source": [
    "s[1:]"
   ]
  },
  {
   "cell_type": "code",
   "execution_count": 25,
   "metadata": {
    "collapsed": false
   },
   "outputs": [
    {
     "data": {
      "text/plain": [
       "'l'"
      ]
     },
     "execution_count": 25,
     "metadata": {},
     "output_type": "execute_result"
    }
   ],
   "source": [
    "s[3]"
   ]
  },
  {
   "cell_type": "code",
   "execution_count": 22,
   "metadata": {
    "collapsed": false
   },
   "outputs": [
    {
     "data": {
      "text/plain": [
       "'all'"
      ]
     },
     "execution_count": 22,
     "metadata": {},
     "output_type": "execute_result"
    }
   ],
   "source": [
    "s[2:5]"
   ]
  },
  {
   "cell_type": "code",
   "execution_count": 23,
   "metadata": {
    "collapsed": false
   },
   "outputs": [
    {
     "data": {
      "text/plain": [
       "8"
      ]
     },
     "execution_count": 23,
     "metadata": {},
     "output_type": "execute_result"
    }
   ],
   "source": [
    "len(s)"
   ]
  },
  {
   "cell_type": "code",
   "execution_count": 24,
   "metadata": {
    "collapsed": false
   },
   "outputs": [
    {
     "name": "stdout",
     "output_type": "stream",
     "text": [
      "N\n",
      "y\n",
      "a\n",
      "l\n",
      "l\n",
      "e\n",
      "n\n",
      "g\n"
     ]
    }
   ],
   "source": [
    "for j in s:\n",
    "    print j"
   ]
  },
  {
   "cell_type": "code",
   "execution_count": null,
   "metadata": {
    "collapsed": true
   },
   "outputs": [],
   "source": []
  }
 ],
 "metadata": {
  "kernelspec": {
   "display_name": "Python 2",
   "language": "python",
   "name": "python2"
  },
  "language_info": {
   "codemirror_mode": {
    "name": "ipython",
    "version": 2
   },
   "file_extension": ".py",
   "mimetype": "text/x-python",
   "name": "python",
   "nbconvert_exporter": "python",
   "pygments_lexer": "ipython2",
   "version": "2.7.13"
  }
 },
 "nbformat": 4,
 "nbformat_minor": 2
}
