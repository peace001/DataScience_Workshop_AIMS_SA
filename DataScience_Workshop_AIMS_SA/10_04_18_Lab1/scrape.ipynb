{
 "cells": [
  {
   "cell_type": "code",
   "execution_count": 5,
   "metadata": {},
   "outputs": [],
   "source": [
    "from bs4 import BeautifulSoup\n",
    "import urllib2\n",
    "import pandas as pd"
   ]
  },
  {
   "cell_type": "code",
   "execution_count": 37,
   "metadata": {},
   "outputs": [],
   "source": [
    "def get_locations(soup):\n",
    "    locations = []\n",
    "    base_link = 'https://www.privateproperty.co.za'\n",
    "    for a in soup.findChildren(\"a\"):\n",
    "        try:\n",
    "            if a['class'][0] == 'listingResultV2':\n",
    "                l = urllib2.urlopen(base_link+a['href'])\n",
    "                reader = BeautifulSoup(l, 'html.parser')\n",
    "                desc = reader.find('div', attrs={'id':\"descriptionParagraph\"}).get_text().strip()\n",
    "                locations.append([a['href'].split('/')[-2],desc])\n",
    "        except KeyError:\n",
    "            continue\n",
    "    return locations"
   ]
  },
  {
   "cell_type": "code",
   "execution_count": 38,
   "metadata": {},
   "outputs": [],
   "source": [
    "def clean_listings(listings, final_listings, vacant_land):\n",
    "    for j in range(len(listings)):\n",
    "        current_listing = listings[j]\n",
    "        attr= []\n",
    "        for div in current_listing.findAll('div'):\n",
    "            feature = div.get_text().strip()\n",
    "            if feature !='':\n",
    "                attr.append(feature)\n",
    "        clean_listing = {}\n",
    "        try:\n",
    "            clean_listing['title']= attr[0]\n",
    "            clean_listing['price'] = attr[1]\n",
    "            clean_listing['bedrooms'] = attr[3]\n",
    "            clean_listing['bathrooms'] = attr[4]\n",
    "            clean_listing['garage'] = attr[5]\n",
    "            clean_listing['location'] = locations[j][0]\n",
    "            clean_listing['description'] = locations[j][1]\n",
    "            clean_listing['other'] = attr[5:]\n",
    "            final_listings.append(clean_listing)\n",
    "        except IndexError:\n",
    "            vacant_land.append(attr)\n",
    "    return final_listings, vacant_land"
   ]
  },
  {
   "cell_type": "code",
   "execution_count": 39,
   "metadata": {},
   "outputs": [],
   "source": [
    "all_listings = []\n",
    "vacant_land = []"
   ]
  },
  {
   "cell_type": "code",
   "execution_count": 43,
   "metadata": {},
   "outputs": [],
   "source": [
    "areas = ['pretoria-central-and-old-east/31','northern-pretoria/29','pretoria-far-east/994','pretoria-east/991']\n",
    "for area in areas:\n",
    "    base_page = 'https://www.privateproperty.co.za/for-sale/gauteng/pretoria/'+area+'?page='\n",
    "    for i in range(1,55):\n",
    "        quote_page = base_page+str(i)\n",
    "        page = urllib2.urlopen(quote_page)\n",
    "        soup = BeautifulSoup(page, 'html.parser')\n",
    "        locations = get_locations(soup)\n",
    "        listings = soup.findAll('div', attrs={'class':'infoHolder'})\n",
    "        final_listings = clean_listings(listings, all_listings, vacant_land)[0]\n",
    "        vacant = clean_listings(listings, all_listings, vacant_land)[1]"
   ]
  },
  {
   "cell_type": "code",
   "execution_count": 44,
   "metadata": {},
   "outputs": [],
   "source": [
    "df = pd.DataFrame(final_listings)"
   ]
  },
  {
   "cell_type": "code",
   "execution_count": 46,
   "metadata": {},
   "outputs": [
    {
     "data": {
      "text/plain": [
       "(8850, 8)"
      ]
     },
     "execution_count": 46,
     "metadata": {},
     "output_type": "execute_result"
    }
   ],
   "source": [
    "df.shape"
   ]
  },
  {
   "cell_type": "code",
   "execution_count": 47,
   "metadata": {},
   "outputs": [],
   "source": [
    "df.to_csv('listings2.csv', sep= ',', encoding = 'utf-8')"
   ]
  },
  {
   "cell_type": "code",
   "execution_count": null,
   "metadata": {},
   "outputs": [],
   "source": []
  }
 ],
 "metadata": {
  "kernelspec": {
   "display_name": "Python 2",
   "language": "python",
   "name": "python2"
  },
  "language_info": {
   "codemirror_mode": {
    "name": "ipython",
    "version": 2
   },
   "file_extension": ".py",
   "mimetype": "text/x-python",
   "name": "python",
   "nbconvert_exporter": "python",
   "pygments_lexer": "ipython2",
   "version": "2.7.13"
  }
 },
 "nbformat": 4,
 "nbformat_minor": 2
}
