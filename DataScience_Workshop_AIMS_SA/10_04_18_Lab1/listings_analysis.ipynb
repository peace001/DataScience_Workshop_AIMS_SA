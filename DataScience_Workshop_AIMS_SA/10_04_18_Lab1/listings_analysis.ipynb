{
 "cells": [
  {
   "cell_type": "markdown",
   "metadata": {},
   "source": [
    "# Data Cleaning in Pandas\n",
    "Prepared by:\n",
    "Nyalleng Moorosi - April 10th 2018\n",
    "\n",
    " In this practical we will learn how to do exploratory data analysis using Pandas"
   ]
  },
  {
   "cell_type": "code",
   "execution_count": 1,
   "metadata": {},
   "outputs": [],
   "source": [
    "import pandas as pd\n",
    "import numpy as np\n",
    "import matplotlib as plt\n",
    "%matplotlib inline  "
   ]
  },
  {
   "cell_type": "markdown",
   "metadata": {},
   "source": [
    "** Read in the CSV file **"
   ]
  },
  {
   "cell_type": "code",
   "execution_count": 84,
   "metadata": {},
   "outputs": [],
   "source": [
    "listings = pd.read_csv('listings2.csv')"
   ]
  },
  {
   "cell_type": "markdown",
   "metadata": {},
   "source": [
    "**Have a look at the data**"
   ]
  },
  {
   "cell_type": "code",
   "execution_count": 85,
   "metadata": {},
   "outputs": [
    {
     "data": {
      "text/html": [
       "<div>\n",
       "<style>\n",
       "    .dataframe thead tr:only-child th {\n",
       "        text-align: right;\n",
       "    }\n",
       "\n",
       "    .dataframe thead th {\n",
       "        text-align: left;\n",
       "    }\n",
       "\n",
       "    .dataframe tbody tr th {\n",
       "        vertical-align: top;\n",
       "    }\n",
       "</style>\n",
       "<table border=\"1\" class=\"dataframe\">\n",
       "  <thead>\n",
       "    <tr style=\"text-align: right;\">\n",
       "      <th></th>\n",
       "      <th>Unnamed: 0</th>\n",
       "      <th>bathrooms</th>\n",
       "      <th>bedrooms</th>\n",
       "      <th>description</th>\n",
       "      <th>garage</th>\n",
       "      <th>location</th>\n",
       "      <th>other</th>\n",
       "      <th>price</th>\n",
       "      <th>title</th>\n",
       "    </tr>\n",
       "  </thead>\n",
       "  <tbody>\n",
       "    <tr>\n",
       "      <th>0</th>\n",
       "      <td>0</td>\n",
       "      <td>2</td>\n",
       "      <td>3</td>\n",
       "      <td>This is a corner unit with a bigger garden tha...</td>\n",
       "      <td>1</td>\n",
       "      <td>559-wipstert-street</td>\n",
       "      <td>[1, Pets, Alarm, Access Gate, Elec. Fencing, 4...</td>\n",
       "      <td>R 1 390 000</td>\n",
       "      <td>Duplex in Monument Park</td>\n",
       "    </tr>\n",
       "    <tr>\n",
       "      <th>1</th>\n",
       "      <td>1</td>\n",
       "      <td>3</td>\n",
       "      <td>4</td>\n",
       "      <td>The Main dwelling is accessed by means of a pe...</td>\n",
       "      <td>2</td>\n",
       "      <td>257-muckleneuk-street</td>\n",
       "      <td>[2, Alarm, Access Gate, BIC, 257 Muckleneuk St...</td>\n",
       "      <td>R 3 000 000</td>\n",
       "      <td>House in New Muckleneuk</td>\n",
       "    </tr>\n",
       "    <tr>\n",
       "      <th>2</th>\n",
       "      <td>2</td>\n",
       "      <td>3</td>\n",
       "      <td>4</td>\n",
       "      <td>EXCLUSIVE MANDATEThis dreamy single storey hom...</td>\n",
       "      <td>2</td>\n",
       "      <td>262-indus</td>\n",
       "      <td>[2, Pool, Elec. Fencing, Garden Cott., Patio, ...</td>\n",
       "      <td>R 3 450 000</td>\n",
       "      <td>House in Waterkloof Ridge</td>\n",
       "    </tr>\n",
       "  </tbody>\n",
       "</table>\n",
       "</div>"
      ],
      "text/plain": [
       "   Unnamed: 0 bathrooms bedrooms  \\\n",
       "0           0         2        3   \n",
       "1           1         3        4   \n",
       "2           2         3        4   \n",
       "\n",
       "                                         description garage  \\\n",
       "0  This is a corner unit with a bigger garden tha...      1   \n",
       "1  The Main dwelling is accessed by means of a pe...      2   \n",
       "2  EXCLUSIVE MANDATEThis dreamy single storey hom...      2   \n",
       "\n",
       "                location                                              other  \\\n",
       "0    559-wipstert-street  [1, Pets, Alarm, Access Gate, Elec. Fencing, 4...   \n",
       "1  257-muckleneuk-street  [2, Alarm, Access Gate, BIC, 257 Muckleneuk St...   \n",
       "2              262-indus  [2, Pool, Elec. Fencing, Garden Cott., Patio, ...   \n",
       "\n",
       "         price                      title  \n",
       "0  R 1 390 000    Duplex in Monument Park  \n",
       "1  R 3 000 000    House in New Muckleneuk  \n",
       "2  R 3 450 000  House in Waterkloof Ridge  "
      ]
     },
     "execution_count": 85,
     "metadata": {},
     "output_type": "execute_result"
    }
   ],
   "source": [
    "listings[:3]"
   ]
  },
  {
   "cell_type": "markdown",
   "metadata": {},
   "source": [
    "** Have a look at the datatypes in the the data frame **"
   ]
  },
  {
   "cell_type": "code",
   "execution_count": 90,
   "metadata": {},
   "outputs": [
    {
     "data": {
      "text/plain": [
       "Unnamed: 0       int64\n",
       "bathrooms       object\n",
       "bedrooms       float32\n",
       "description     object\n",
       "garage          object\n",
       "location        object\n",
       "other           object\n",
       "price           object\n",
       "title           object\n",
       "dtype: object"
      ]
     },
     "execution_count": 90,
     "metadata": {},
     "output_type": "execute_result"
    }
   ],
   "source": [
    "listings.dtypes"
   ]
  },
  {
   "cell_type": "markdown",
   "metadata": {},
   "source": [
    "** Transform your data"
   ]
  },
  {
   "cell_type": "code",
   "execution_count": 93,
   "metadata": {},
   "outputs": [],
   "source": [
    "listings['bedrooms'] = pd.to_numeric(listings.bedrooms, downcast='float', errors='coerce')"
   ]
  },
  {
   "cell_type": "code",
   "execution_count": 94,
   "metadata": {},
   "outputs": [
    {
     "data": {
      "text/html": [
       "<div>\n",
       "<style>\n",
       "    .dataframe thead tr:only-child th {\n",
       "        text-align: right;\n",
       "    }\n",
       "\n",
       "    .dataframe thead th {\n",
       "        text-align: left;\n",
       "    }\n",
       "\n",
       "    .dataframe tbody tr th {\n",
       "        vertical-align: top;\n",
       "    }\n",
       "</style>\n",
       "<table border=\"1\" class=\"dataframe\">\n",
       "  <thead>\n",
       "    <tr style=\"text-align: right;\">\n",
       "      <th></th>\n",
       "      <th>Unnamed: 0</th>\n",
       "      <th>bathrooms</th>\n",
       "      <th>bedrooms</th>\n",
       "      <th>description</th>\n",
       "      <th>garage</th>\n",
       "      <th>location</th>\n",
       "      <th>other</th>\n",
       "      <th>price</th>\n",
       "      <th>title</th>\n",
       "    </tr>\n",
       "  </thead>\n",
       "  <tbody>\n",
       "    <tr>\n",
       "      <th>0</th>\n",
       "      <td>0</td>\n",
       "      <td>2</td>\n",
       "      <td>3.0</td>\n",
       "      <td>This is a corner unit with a bigger garden tha...</td>\n",
       "      <td>1</td>\n",
       "      <td>559-wipstert-street</td>\n",
       "      <td>[1, Pets, Alarm, Access Gate, Elec. Fencing, 4...</td>\n",
       "      <td>R 1 390 000</td>\n",
       "      <td>Duplex in Monument Park</td>\n",
       "    </tr>\n",
       "    <tr>\n",
       "      <th>1</th>\n",
       "      <td>1</td>\n",
       "      <td>3</td>\n",
       "      <td>4.0</td>\n",
       "      <td>The Main dwelling is accessed by means of a pe...</td>\n",
       "      <td>2</td>\n",
       "      <td>257-muckleneuk-street</td>\n",
       "      <td>[2, Alarm, Access Gate, BIC, 257 Muckleneuk St...</td>\n",
       "      <td>R 3 000 000</td>\n",
       "      <td>House in New Muckleneuk</td>\n",
       "    </tr>\n",
       "    <tr>\n",
       "      <th>2</th>\n",
       "      <td>2</td>\n",
       "      <td>3</td>\n",
       "      <td>4.0</td>\n",
       "      <td>EXCLUSIVE MANDATEThis dreamy single storey hom...</td>\n",
       "      <td>2</td>\n",
       "      <td>262-indus</td>\n",
       "      <td>[2, Pool, Elec. Fencing, Garden Cott., Patio, ...</td>\n",
       "      <td>R 3 450 000</td>\n",
       "      <td>House in Waterkloof Ridge</td>\n",
       "    </tr>\n",
       "  </tbody>\n",
       "</table>\n",
       "</div>"
      ],
      "text/plain": [
       "   Unnamed: 0 bathrooms  bedrooms  \\\n",
       "0           0         2       3.0   \n",
       "1           1         3       4.0   \n",
       "2           2         3       4.0   \n",
       "\n",
       "                                         description garage  \\\n",
       "0  This is a corner unit with a bigger garden tha...      1   \n",
       "1  The Main dwelling is accessed by means of a pe...      2   \n",
       "2  EXCLUSIVE MANDATEThis dreamy single storey hom...      2   \n",
       "\n",
       "                location                                              other  \\\n",
       "0    559-wipstert-street  [1, Pets, Alarm, Access Gate, Elec. Fencing, 4...   \n",
       "1  257-muckleneuk-street  [2, Alarm, Access Gate, BIC, 257 Muckleneuk St...   \n",
       "2              262-indus  [2, Pool, Elec. Fencing, Garden Cott., Patio, ...   \n",
       "\n",
       "         price                      title  \n",
       "0  R 1 390 000    Duplex in Monument Park  \n",
       "1  R 3 000 000    House in New Muckleneuk  \n",
       "2  R 3 450 000  House in Waterkloof Ridge  "
      ]
     },
     "execution_count": 94,
     "metadata": {},
     "output_type": "execute_result"
    }
   ],
   "source": [
    "listings[:3]"
   ]
  },
  {
   "cell_type": "markdown",
   "metadata": {},
   "source": [
    "** Problem 1 ** : Write a lambda function that appends on to the dataframe a new column that contains the size of the description for each listing\n",
    "--To set a new column do ** listings['desc_len']  = ..**\n",
    "\n",
    "**Problem 2 ** Modify all other coloums that should be numeric"
   ]
  },
  {
   "cell_type": "markdown",
   "metadata": {},
   "source": [
    "### Do some summary statistics\n",
    "    -- extend to mean and average"
   ]
  },
  {
   "cell_type": "code",
   "execution_count": 89,
   "metadata": {},
   "outputs": [
    {
     "data": {
      "text/plain": [
       "2.921713352203369"
      ]
     },
     "execution_count": 89,
     "metadata": {},
     "output_type": "execute_result"
    }
   ],
   "source": [
    "listings['bedrooms'].mean()"
   ]
  },
  {
   "cell_type": "markdown",
   "metadata": {},
   "source": [
    "### Grouping and further counting"
   ]
  },
  {
   "cell_type": "code",
   "execution_count": 41,
   "metadata": {},
   "outputs": [
    {
     "data": {
      "text/plain": [
       "<matplotlib.axes._subplots.AxesSubplot at 0x7fee849b9390>"
      ]
     },
     "execution_count": 41,
     "metadata": {},
     "output_type": "execute_result"
    },
    {
     "data": {
      "image/png": "[encoded data removed]",
      "text/plain": [
       "<matplotlib.figure.Figure at 0x7fee895f62d0>"
      ]
     },
     "metadata": {},
     "output_type": "display_data"
    }
   ],
   "source": [
    "listings.groupby('bedrooms').agg('count')['price'].plot(kind = 'bar')"
   ]
  },
  {
   "cell_type": "markdown",
   "metadata": {},
   "source": [
    "** Problem 3: ** Find the location with the most expensive housing "
   ]
  },
  {
   "cell_type": "markdown",
   "metadata": {},
   "source": [
    "** Select certain features of interest **"
   ]
  },
  {
   "cell_type": "code",
   "execution_count": 96,
   "metadata": {},
   "outputs": [],
   "source": [
    "large_houses = listings[listings['bedrooms'] > 10]"
   ]
  },
  {
   "cell_type": "code",
   "execution_count": 97,
   "metadata": {},
   "outputs": [
    {
     "data": {
      "text/html": [
       "<div>\n",
       "<style>\n",
       "    .dataframe thead tr:only-child th {\n",
       "        text-align: right;\n",
       "    }\n",
       "\n",
       "    .dataframe thead th {\n",
       "        text-align: left;\n",
       "    }\n",
       "\n",
       "    .dataframe tbody tr th {\n",
       "        vertical-align: top;\n",
       "    }\n",
       "</style>\n",
       "<table border=\"1\" class=\"dataframe\">\n",
       "  <thead>\n",
       "    <tr style=\"text-align: right;\">\n",
       "      <th></th>\n",
       "      <th>Unnamed: 0</th>\n",
       "      <th>bathrooms</th>\n",
       "      <th>bedrooms</th>\n",
       "      <th>description</th>\n",
       "      <th>garage</th>\n",
       "      <th>location</th>\n",
       "      <th>other</th>\n",
       "      <th>price</th>\n",
       "      <th>title</th>\n",
       "    </tr>\n",
       "  </thead>\n",
       "  <tbody>\n",
       "    <tr>\n",
       "      <th>203</th>\n",
       "      <td>203</td>\n",
       "      <td>6</td>\n",
       "      <td>11.0</td>\n",
       "      <td>An eleven bedroom house in a  well situated lo...</td>\n",
       "      <td>Hayford Obeng</td>\n",
       "      <td>hatfield</td>\n",
       "      <td>[Hayford Obeng]</td>\n",
       "      <td>R 4 500 000</td>\n",
       "      <td>House in Hatfield</td>\n",
       "    </tr>\n",
       "    <tr>\n",
       "      <th>227</th>\n",
       "      <td>227</td>\n",
       "      <td>6</td>\n",
       "      <td>11.0</td>\n",
       "      <td>An eleven bedroom house in a  well situated lo...</td>\n",
       "      <td>Hayford Obeng</td>\n",
       "      <td>hatfield</td>\n",
       "      <td>[Hayford Obeng]</td>\n",
       "      <td>R 4 500 000</td>\n",
       "      <td>House in Hatfield</td>\n",
       "    </tr>\n",
       "    <tr>\n",
       "      <th>244</th>\n",
       "      <td>244</td>\n",
       "      <td>9</td>\n",
       "      <td>11.0</td>\n",
       "      <td>Family home / Guesthouse or Excellent Investme...</td>\n",
       "      <td>2</td>\n",
       "      <td>eastwood</td>\n",
       "      <td>[2, Pets, Alarm, Access Gate, Staff Quarters, ...</td>\n",
       "      <td>R 5 475 000</td>\n",
       "      <td>House in Eastwood</td>\n",
       "    </tr>\n",
       "  </tbody>\n",
       "</table>\n",
       "</div>"
      ],
      "text/plain": [
       "     Unnamed: 0 bathrooms  bedrooms  \\\n",
       "203         203         6      11.0   \n",
       "227         227         6      11.0   \n",
       "244         244         9      11.0   \n",
       "\n",
       "                                           description         garage  \\\n",
       "203  An eleven bedroom house in a  well situated lo...  Hayford Obeng   \n",
       "227  An eleven bedroom house in a  well situated lo...  Hayford Obeng   \n",
       "244  Family home / Guesthouse or Excellent Investme...              2   \n",
       "\n",
       "     location                                              other        price  \\\n",
       "203  hatfield                                    [Hayford Obeng]  R 4 500 000   \n",
       "227  hatfield                                    [Hayford Obeng]  R 4 500 000   \n",
       "244  eastwood  [2, Pets, Alarm, Access Gate, Staff Quarters, ...  R 5 475 000   \n",
       "\n",
       "                 title  \n",
       "203  House in Hatfield  \n",
       "227  House in Hatfield  \n",
       "244  House in Eastwood  "
      ]
     },
     "execution_count": 97,
     "metadata": {},
     "output_type": "execute_result"
    }
   ],
   "source": [
    "large_houses[:3]"
   ]
  },
  {
   "cell_type": "markdown",
   "metadata": {},
   "source": [
    "** Problem 4: ** Find Houses that have the same number of bedrooms as bathrooms"
   ]
  },
  {
   "cell_type": "code",
   "execution_count": 98,
   "metadata": {},
   "outputs": [
    {
     "data": {
      "text/plain": [
       "<matplotlib.axes._subplots.AxesSubplot at 0x7fee832be350>"
      ]
     },
     "execution_count": 98,
     "metadata": {},
     "output_type": "execute_result"
    },
    {
     "data": {
      "image/png": "[encoded data removed]",
      "text/plain": [
       "<matplotlib.figure.Figure at 0x7fee832b7d50>"
      ]
     },
     "metadata": {},
     "output_type": "display_data"
    }
   ],
   "source": [
    "listings.groupby('price').agg('count')['bedrooms'].plot(kind = 'bar')"
   ]
  },
  {
   "cell_type": "markdown",
   "metadata": {},
   "source": [
    "#### transforming a value using a helper function"
   ]
  },
  {
   "cell_type": "code",
   "execution_count": 60,
   "metadata": {},
   "outputs": [],
   "source": [
    "listings['price'] = listings['price'].apply(lambda x: clean_price(x))"
   ]
  },
  {
   "cell_type": "code",
   "execution_count": 65,
   "metadata": {},
   "outputs": [],
   "source": [
    "def clean_price(x):\n",
    "    try:\n",
    "        return float(x[1:].replace(' ',''))\n",
    "    except ValueError:\n",
    "        return 0"
   ]
  }
 ],
 "metadata": {
  "kernelspec": {
   "display_name": "Python 2",
   "language": "python",
   "name": "python2"
  },
  "language_info": {
   "codemirror_mode": {
    "name": "ipython",
    "version": 2
   },
   "file_extension": ".py",
   "mimetype": "text/x-python",
   "name": "python",
   "nbconvert_exporter": "python",
   "pygments_lexer": "ipython2",
   "version": "2.7.13"
  }
 },
 "nbformat": 4,
 "nbformat_minor": 2
}
